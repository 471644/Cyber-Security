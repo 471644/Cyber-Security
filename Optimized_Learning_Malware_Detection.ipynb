{
 "cells": [
  {
   "cell_type": "markdown",
   "metadata": {},
   "source": [
    "# Import Libraries "
   ]
  },
  {
   "cell_type": "code",
   "execution_count": 1,
   "metadata": {
    "ExecuteTime": {
     "end_time": "2019-11-08T10:11:16.059966Z",
     "start_time": "2019-11-08T10:11:15.593537Z"
    }
   },
   "outputs": [],
   "source": [
    "import pandas as pd\n",
    "import numpy as np\n",
    "import re \n",
    "import os\n",
    "import time"
   ]
  },
  {
   "cell_type": "code",
   "execution_count": 2,
   "metadata": {
    "ExecuteTime": {
     "end_time": "2019-11-08T10:11:17.034433Z",
     "start_time": "2019-11-08T10:11:16.062264Z"
    }
   },
   "outputs": [],
   "source": [
    "import dask.dataframe as dd\n",
    "from sklearn import preprocessing\n",
    "import warnings, sys\n",
    "if not sys.warnoptions:\n",
    "    warnings.simplefilter(\"ignore\")"
   ]
  },
  {
   "cell_type": "code",
   "execution_count": 3,
   "metadata": {
    "ExecuteTime": {
     "end_time": "2019-11-08T10:11:17.040883Z",
     "start_time": "2019-11-08T10:11:17.036913Z"
    }
   },
   "outputs": [],
   "source": [
    "import gc\n",
    "gc.enable()"
   ]
  },
  {
   "cell_type": "markdown",
   "metadata": {},
   "source": [
    "# Dispaly Settings"
   ]
  },
  {
   "cell_type": "code",
   "execution_count": 4,
   "metadata": {
    "ExecuteTime": {
     "end_time": "2019-11-08T10:11:17.655141Z",
     "start_time": "2019-11-08T10:11:17.434215Z"
    }
   },
   "outputs": [],
   "source": [
    "from mpl_toolkits.mplot3d import Axes3D\n",
    "import seaborn as sns\n",
    "sns.set(style=\"whitegrid\", color_codes=True)\n",
    "import matplotlib.cm as cm\n",
    "%matplotlib inline\n",
    "\n",
    "pd.set_option('max_colwidth',999)\n",
    "pd.set_option('display.max_columns', 999)\n",
    "pd.set_option(\"display.max_rows\",999)"
   ]
  },
  {
   "cell_type": "markdown",
   "metadata": {},
   "source": [
    "# Vowpal- Wabbit"
   ]
  },
  {
   "cell_type": "code",
   "execution_count": 9,
   "metadata": {
    "ExecuteTime": {
     "end_time": "2019-11-08T06:20:43.537634Z",
     "start_time": "2019-11-08T06:20:43.531153Z"
    }
   },
   "outputs": [
    {
     "name": "stdout",
     "output_type": "stream",
     "text": [
      "Couldn't find program: 'false'\n"
     ]
    }
   ],
   "source": [
    "%%script false\n",
    "! pip install vowpalwabbit"
   ]
  },
  {
   "cell_type": "code",
   "execution_count": 5,
   "metadata": {
    "ExecuteTime": {
     "end_time": "2019-11-08T06:20:00.790038Z",
     "start_time": "2019-11-08T06:20:00.779125Z"
    }
   },
   "outputs": [
    {
     "name": "stdout",
     "output_type": "stream",
     "text": [
      "Couldn't find program: 'false'\n"
     ]
    }
   ],
   "source": [
    "%%script false\n",
    "from sklearn import datasets\n",
    "from sklearn.model_selection import train_test_split\n",
    "import vowpalwabbit as vw"
   ]
  },
  {
   "cell_type": "code",
   "execution_count": 7,
   "metadata": {
    "ExecuteTime": {
     "end_time": "2019-11-08T06:20:37.203787Z",
     "start_time": "2019-11-08T06:20:37.195322Z"
    }
   },
   "outputs": [
    {
     "name": "stdout",
     "output_type": "stream",
     "text": [
      "Couldn't find program: 'false'\n"
     ]
    }
   ],
   "source": [
    "%%script false\n",
    "X,Y = datasets.make_hastie_10_2(n_samples=10000,random_state=1)\n",
    "X   = X.astype(np.float32)\n",
    "X_train,X_test,Y_train,Y_test = train_test_split(X,Y,test_size=0.2,random_state=256)\n",
    "model = vw.sklearn_vw.VWClassifier()\n",
    "model.fit(X_train,Y_train)"
   ]
  },
  {
   "cell_type": "code",
   "execution_count": 8,
   "metadata": {
    "ExecuteTime": {
     "end_time": "2019-11-08T06:20:38.355116Z",
     "start_time": "2019-11-08T06:20:38.347149Z"
    }
   },
   "outputs": [
    {
     "name": "stdout",
     "output_type": "stream",
     "text": [
      "Couldn't find program: 'false'\n"
     ]
    }
   ],
   "source": [
    "%%script false\n",
    "Y_pred = model.predict(X_test)\n",
    "model.score(X_train,Y_train)\n",
    "model.score(X_test,Y_test)"
   ]
  },
  {
   "cell_type": "markdown",
   "metadata": {},
   "source": [
    "# ||rl Processing Experiment"
   ]
  },
  {
   "cell_type": "markdown",
   "metadata": {
    "ExecuteTime": {
     "end_time": "2019-11-07T09:41:40.852990Z",
     "start_time": "2019-11-07T09:41:08.506654Z"
    }
   },
   "source": [
    "Didin't work wil try again on a linux machine as see if it works there"
   ]
  },
  {
   "cell_type": "markdown",
   "metadata": {},
   "source": [
    "# Helper Functions"
   ]
  },
  {
   "cell_type": "code",
   "execution_count": 5,
   "metadata": {
    "ExecuteTime": {
     "end_time": "2019-11-08T10:11:22.646475Z",
     "start_time": "2019-11-08T10:11:22.634103Z"
    }
   },
   "outputs": [],
   "source": [
    "def calculateLiftDiscrete(variableList,Target,variableListColumn):\n",
    "    df = pd.DataFrame()\n",
    "    i=0\n",
    "    for variable in variableList:\n",
    "        \n",
    "        total            = variable.shape[0]\n",
    "        totalFrauds      = Target.value_counts(ascending=False)[1]\n",
    "        totalCleans      = Target.value_counts(ascending=False)[0]\n",
    "        table            = variable.value_counts(ascending=False).sort_index()\n",
    "        propTable        = (variable.value_counts(ascending=False)/variable.value_counts(ascending=False).sum()).sort_index()\n",
    "        crossTab         = pd.crosstab(variable,Target).sort_values(0,ascending=False).sort_index()\n",
    "        margineFraudGain = round(crossTab[1]/table,4).sort_index()\n",
    "        detectionRate    = round(crossTab[1]/totalFrauds,4).sort_index()\n",
    "        sumCleans        = (table-crossTab[1]).sort_index()\n",
    "        liftRatio        = (round((crossTab[1]/totalFrauds)/(sumCleans/totalCleans),2)).sort_index()\n",
    "        tempDF           = pd.DataFrame({\n",
    "                                       'variableName'     : np.repeat(variableListColumn[i],table.count()),\n",
    "                                       'category'         : table.index,\n",
    "                                       'totalTrx'         : table.values,\n",
    "                                       'totalTrxPerCat'   : propTable.values,\n",
    "                                       'totalFraud'       : crossTab[1].values,\n",
    "                                       'totalClean'       : crossTab[0].values,\n",
    "                                       'margineFraudGain' : margineFraudGain.values,\n",
    "                                       'detectionRate'    : detectionRate.values,\n",
    "                                       'lift'             : liftRatio.values\n",
    "\n",
    "                               })\n",
    "        df = df.append(tempDF,ignore_index=True)\n",
    "        i=i+1\n",
    "    return df"
   ]
  },
  {
   "cell_type": "code",
   "execution_count": 6,
   "metadata": {
    "ExecuteTime": {
     "end_time": "2019-11-08T10:11:22.898819Z",
     "start_time": "2019-11-08T10:11:22.887908Z"
    }
   },
   "outputs": [],
   "source": [
    "def convert_types(df):\n",
    "    # Convert data types to reduce memory\n",
    "    for c in df.columns:\n",
    "        col_type = str(df[c].dtypes)\n",
    "        numerics = ['int16', 'int32', 'int64', 'float16', 'float32', 'float64']\n",
    "        \n",
    "        # Convert objects to category\n",
    "        if col_type == 'object':\n",
    "            df[c] = df[c].astype('category')\n",
    "        \n",
    "        # numerics\n",
    "        elif col_type in numerics:\n",
    "            c_min = df[c].min()\n",
    "            c_max = df[c].max()\n",
    "            if col_type[:3] == 'int':\n",
    "                if c_min > np.iinfo(np.int8).min and c_max < np.iinfo(np.int8).max:\n",
    "                    df[c] = df[c].astype(np.int8)\n",
    "                elif c_min > np.iinfo(np.int16).min and c_max < np.iinfo(np.int16).max:\n",
    "                    df[c] = df[c].astype(np.int16)\n",
    "                elif c_min > np.iinfo(np.int32).min and c_max < np.iinfo(np.int32).max:\n",
    "                    df[c] = df[c].astype(np.int32)\n",
    "                elif c_min > np.iinfo(np.int64).min and c_max < np.iinfo(np.int64).max:\n",
    "                    df[c] = df[c].astype(np.int64)  \n",
    "            else:\n",
    "                if c_min > np.finfo(np.float16).min and c_max < np.finfo(np.float16).max:\n",
    "                    df[c] = df[c].astype(np.float16)\n",
    "                elif c_min > np.finfo(np.float32).min and c_max < np.finfo(np.float32).max:\n",
    "                    df[c] = df[c].astype(np.float32)\n",
    "                else:\n",
    "                    df[c] = df[c].astype(np.float64)  \n",
    "        \n",
    "    return df"
   ]
  },
  {
   "cell_type": "code",
   "execution_count": 7,
   "metadata": {
    "ExecuteTime": {
     "end_time": "2019-11-08T10:11:23.091875Z",
     "start_time": "2019-11-08T10:11:23.082418Z"
    }
   },
   "outputs": [],
   "source": [
    "def plot_corr_(df,size=10):\n",
    "    '''Plot a graphical correlation matrix for a dataframe.\n",
    "\n",
    "    Input:\n",
    "        df: pandas DataFrame\n",
    "        size: vertical and horizontal size of the plot'''\n",
    "    \n",
    "    \n",
    "    import matplotlib.pyplot as plt\n",
    "\n",
    "    # Compute the correlation matrix for the received dataframe\n",
    "    corr = df.corr()\n",
    "    \n",
    "    # Plot the correlation matrix\n",
    "    fig, ax = plt.subplots(figsize=(size, size))\n",
    "    cax = ax.matshow(corr, cmap='coolwarm')\n",
    "    plt.xticks(range(len(corr.columns)), corr.columns, rotation=90);\n",
    "    plt.yticks(range(len(corr.columns)), corr.columns);\n",
    "    \n",
    "    # Add the colorbar legend\n",
    "    cbar = fig.colorbar(cax, ticks=[-1, 0, 1], aspect=40, shrink=.8)\n",
    "\n"
   ]
  },
  {
   "cell_type": "code",
   "execution_count": 8,
   "metadata": {
    "ExecuteTime": {
     "end_time": "2019-11-08T10:11:23.269270Z",
     "start_time": "2019-11-08T10:11:23.258325Z"
    }
   },
   "outputs": [],
   "source": [
    "def plot_learning_curve(estimator, title, X, y, ylim=None, cv=None,\n",
    "                        n_jobs=-1, train_sizes=np.linspace(.1, 1.0, 5)):\n",
    "    \"\"\"Generate a simple plot of the test and training learning curve\"\"\"\n",
    "    plt.figure()\n",
    "    plt.title(title)\n",
    "    if ylim is not None:\n",
    "        plt.ylim(*ylim)\n",
    "    plt.xlabel(\"Training examples\")\n",
    "    plt.ylabel(\"Score\")\n",
    "    train_sizes, train_scores, test_scores = learning_curve(\n",
    "        estimator, X, y, cv=cv, n_jobs=n_jobs, train_sizes=train_sizes,scoring=\"roc_auc\",shuffle=True)\n",
    "    train_scores_mean = np.mean(train_scores, axis=1)\n",
    "    train_scores_std = np.std(train_scores, axis=1)\n",
    "    test_scores_mean = np.mean(test_scores, axis=1)\n",
    "    test_scores_std = np.std(test_scores, axis=1)\n",
    "    plt.grid()\n",
    "\n",
    "    plt.fill_between(train_sizes, train_scores_mean - train_scores_std,\n",
    "                     train_scores_mean + train_scores_std, alpha=0.1,\n",
    "                     color=\"r\")\n",
    "    plt.fill_between(train_sizes, test_scores_mean - test_scores_std,\n",
    "                     test_scores_mean + test_scores_std, alpha=0.1, color=\"g\")\n",
    "    plt.plot(train_sizes, train_scores_mean, 'o-', color=\"r\",\n",
    "             label=\"Training score\")\n",
    "    plt.plot(train_sizes, test_scores_mean, 'o-', color=\"g\",\n",
    "             label=\"Cross-validation score\")\n",
    "\n",
    "    plt.legend(loc=\"best\")\n",
    "    return plt"
   ]
  },
  {
   "cell_type": "code",
   "execution_count": 9,
   "metadata": {
    "ExecuteTime": {
     "end_time": "2019-11-08T10:11:23.444212Z",
     "start_time": "2019-11-08T10:11:23.433331Z"
    }
   },
   "outputs": [],
   "source": [
    "def basicStats(df,Target):\n",
    "    stats = []\n",
    "    [\n",
    "        stats.append(\n",
    "            (col, df[col].nunique(),\n",
    "             df[col].isnull().sum() * 100 / df.shape[0],\n",
    "             df[col].value_counts(normalize=True, dropna=False).values[0] *\n",
    "             100,\n",
    "             df[col].corr(df[Target]) if col in ['float16','int8','float32','int16'] else 0 ,\n",
    "             np.var(df[col]) if col in ['float16','int8','float32','int16'] else df[col].nunique(),\n",
    "             (df[col].nunique()/df.shape[0])*100,\n",
    "             df[col].dtype)) for col in df.columns.tolist()\n",
    "    ]\n",
    "    return pd.DataFrame(stats,\n",
    "                        columns=[\n",
    "                            'Feature', 'Unique_values',\n",
    "                            'Percentage of missing values',\n",
    "                            'Percentage of values in the biggest category',\n",
    "                            'Cor-relation with Target',\n",
    "                            'Zero-Variance Check',\n",
    "                            '%_Cardinality',\n",
    "                            'type'\n",
    "                        ]).sort_values(by = ['Percentage of missing values','Zero-Variance Check','%_Cardinality'],\n",
    "                                       ascending=False)"
   ]
  },
  {
   "cell_type": "markdown",
   "metadata": {},
   "source": [
    "# Problem Statement "
   ]
  },
  {
   "cell_type": "markdown",
   "metadata": {},
   "source": [
    "The goal of this competition is to predict a Windows machine’s probability of getting infected by various families of malware, based on different properties of that machine. The telemetry data containing these properties and the machine infections was generated by combining heartbeat and threat reports collected by Microsoft's endpoint protection solution, Windows Defender.\n",
    "\n",
    "Each row in this dataset corresponds to a machine, uniquely identified by a MachineIdentifier. HasDetections is the ground truth and indicates that Malware was detected on the machine. Using the information and labels in train.csv, you must predict the value for HasDetections for each machine in test.csv.\n",
    "\n",
    "The sampling methodology used to create this dataset was designed to meet certain business constraints, both in regards to user privacy as well as the time period during which the machine was running. Malware detection is inherently a time-series problem, but it is made complicated by the introduction of new machines, machines that come online and offline, machines that receive patches, machines that receive new operating systems, etc. While the dataset provided here has been roughly split by time, the complications and sampling requirements mentioned above may mean you may see imperfect agreement between your cross validation, public, and private scores! Additionally, this dataset is not representative of Microsoft customers’ machines in the wild; it has been sampled to include a much larger proportion of malware machines."
   ]
  },
  {
   "cell_type": "raw",
   "metadata": {},
   "source": [
    "Unavailable or self-documenting column names are marked with an \"NA\".\n",
    "\n",
    "MachineIdentifier - Individual machine ID\n",
    "ProductName - Defender state information e.g. win8defender\n",
    "EngineVersion - Defender state information e.g. 1.1.12603.0\n",
    "AppVersion - Defender state information e.g. 4.9.10586.0\n",
    "AvSigVersion - Defender state information e.g. 1.217.1014.0\n",
    "IsBeta - Defender state information e.g. false\n",
    "RtpStateBitfield - NA\n",
    "IsSxsPassiveMode - NA\n",
    "DefaultBrowsersIdentifier - ID for the machine's default browser\n",
    "AVProductStatesIdentifier - ID for the specific configuration of a user's antivirus software\n",
    "AVProductsInstalled - NA\n",
    "AVProductsEnabled - NA\n",
    "HasTpm - True if machine has tpm\n",
    "CountryIdentifier - ID for the country the machine is located in\n",
    "CityIdentifier - ID for the city the machine is located in\n",
    "OrganizationIdentifier - ID for the organization the machine belongs in, organization ID is mapped to both specific companies and broad industries\n",
    "GeoNameIdentifier - ID for the geographic region a machine is located in\n",
    "LocaleEnglishNameIdentifier - English name of Locale ID of the current user\n",
    "Platform - Calculates platform name (of OS related properties and processor property)\n",
    "Processor - This is the process architecture of the installed operating system\n",
    "OsVer - Version of the current operating system\n",
    "OsBuild - Build of the current operating system\n",
    "OsSuite - Product suite mask for the current operating system.\n",
    "OsPlatformSubRelease - Returns the OS Platform sub-release (Windows Vista, Windows 7, Windows 8, TH1, TH2)\n",
    "OsBuildLab - Build lab that generated the current OS. Example: 9600.17630.amd64fre.winblue_r7.150109-2022\n",
    "SkuEdition - The goal of this feature is to use the Product Type defined in the MSDN to map to a 'SKU-Edition' name that is useful in population reporting. The valid Product Type are defined in %sdxroot%\\data\\windowseditions.xml. This API has been used since Vista and Server 2008, so there are many Product Types that do not apply to Windows 10. The 'SKU-Edition' is a string value that is in one of three classes of results. The design must hand each class.\n",
    "IsProtected - This is a calculated field derived from the Spynet Report's AV Products field. Returns: a. TRUE if there is at least one active and up-to-date antivirus product running on this machine. b. FALSE if there is no active AV product on this machine, or if the AV is active, but is not receiving the latest updates. c. null if there are no Anti Virus Products in the report. Returns: Whether a machine is protected.\n",
    "AutoSampleOptIn - This is the SubmitSamplesConsent value passed in from the service, available on CAMP 9+\n",
    "PuaMode - Pua Enabled mode from the service\n",
    "SMode - This field is set to true when the device is known to be in 'S Mode', as in, Windows 10 S mode, where only Microsoft Store apps can be installed\n",
    "IeVerIdentifier - NA\n",
    "SmartScreen - This is the SmartScreen enabled string value from registry. This is obtained by checking in order, HKLM\\SOFTWARE\\Policies\\Microsoft\\Windows\\System\\SmartScreenEnabled and HKLM\\SOFTWARE\\Microsoft\\Windows\\CurrentVersion\\Explorer\\SmartScreenEnabled. If the value exists but is blank, the value \"ExistsNotSet\" is sent in telemetry.\n",
    "Firewall - This attribute is true (1) for Windows 8.1 and above if windows firewall is enabled, as reported by the service.\n",
    "UacLuaenable - This attribute reports whether or not the \"administrator in Admin Approval Mode\" user type is disabled or enabled in UAC. The value reported is obtained by reading the regkey HKLM\\SOFTWARE\\Microsoft\\Windows\\CurrentVersion\\Policies\\System\\EnableLUA.\n",
    "Census_MDC2FormFactor - A grouping based on a combination of Device Census level hardware characteristics. The logic used to define Form Factor is rooted in business and industry standards and aligns with how people think about their device. (Examples: Smartphone, Small Tablet, All in One, Convertible...)\n",
    "Census_DeviceFamily - AKA DeviceClass. Indicates the type of device that an edition of the OS is intended for. Example values: Windows.Desktop, Windows.Mobile, and iOS.Phone\n",
    "Census_OEMNameIdentifier - NA\n",
    "Census_OEMModelIdentifier - NA\n",
    "Census_ProcessorCoreCount - Number of logical cores in the processor\n",
    "Census_ProcessorManufacturerIdentifier - NA\n",
    "Census_ProcessorModelIdentifier - NA\n",
    "Census_ProcessorClass - A classification of processors into high/medium/low. Initially used for Pricing Level SKU. No longer maintained and updated\n",
    "Census_PrimaryDiskTotalCapacity - Amount of disk space on primary disk of the machine in MB\n",
    "Census_PrimaryDiskTypeName - Friendly name of Primary Disk Type - HDD or SSD\n",
    "Census_SystemVolumeTotalCapacity - The size of the partition that the System volume is installed on in MB\n",
    "Census_HasOpticalDiskDrive - True indicates that the machine has an optical disk drive (CD/DVD)\n",
    "Census_TotalPhysicalRAM - Retrieves the physical RAM in MB\n",
    "Census_ChassisTypeName - Retrieves a numeric representation of what type of chassis the machine has. A value of 0 means xx\n",
    "Census_InternalPrimaryDiagonalDisplaySizeInInches - Retrieves the physical diagonal length in inches of the primary display\n",
    "Census_InternalPrimaryDisplayResolutionHorizontal - Retrieves the number of pixels in the horizontal direction of the internal display.\n",
    "Census_InternalPrimaryDisplayResolutionVertical - Retrieves the number of pixels in the vertical direction of the internal display\n",
    "Census_PowerPlatformRoleName - Indicates the OEM preferred power management profile. This value helps identify the basic form factor of the device\n",
    "Census_InternalBatteryType - NA\n",
    "Census_InternalBatteryNumberOfCharges - NA\n",
    "Census_OSVersion - Numeric OS version Example - 10.0.10130.0\n",
    "Census_OSArchitecture - Architecture on which the OS is based. Derived from OSVersionFull. Example - amd64\n",
    "Census_OSBranch - Branch of the OS extracted from the OsVersionFull. Example - OsBranch = fbl_partner_eeap where OsVersion = 6.4.9813.0.amd64fre.fbl_partner_eeap.140810-0005\n",
    "Census_OSBuildNumber - OS Build number extracted from the OsVersionFull. Example - OsBuildNumber = 10512 or 10240\n",
    "Census_OSBuildRevision - OS Build revision extracted from the OsVersionFull. Example - OsBuildRevision = 1000 or 16458\n",
    "Census_OSEdition - Edition of the current OS. Sourced from HKLM\\Software\\Microsoft\\Windows NT\\CurrentVersion@EditionID in registry. Example: Enterprise\n",
    "Census_OSSkuName - OS edition friendly name (currently Windows only)\n",
    "Census_OSInstallTypeName - Friendly description of what install was used on the machine i.e. clean\n",
    "Census_OSInstallLanguageIdentifier - NA\n",
    "Census_OSUILocaleIdentifier - NA\n",
    "Census_OSWUAutoUpdateOptionsName - Friendly name of the WindowsUpdate auto-update settings on the machine.\n",
    "Census_IsPortableOperatingSystem - Indicates whether OS is booted up and running via Windows-To-Go on a USB stick.\n",
    "Census_GenuineStateName - Friendly name of OSGenuineStateID. 0 = Genuine\n",
    "Census_ActivationChannel - Retail license key or Volume license key for a machine.\n",
    "Census_IsFlightingInternal - NA\n",
    "Census_IsFlightsDisabled - Indicates if the machine is participating in flighting.\n",
    "Census_FlightRing - The ring that the device user would like to receive flights for. This might be different from the ring of the OS which is currently installed if the user changes the ring after getting a flight from a different ring.\n",
    "Census_ThresholdOptIn - NA\n",
    "Census_FirmwareManufacturerIdentifier - NA\n",
    "Census_FirmwareVersionIdentifier - NA\n",
    "Census_IsSecureBootEnabled - Indicates if Secure Boot mode is enabled.\n",
    "Census_IsWIMBootEnabled - NA\n",
    "Census_IsVirtualDevice - Identifies a Virtual Machine (machine learning model)\n",
    "Census_IsTouchEnabled - Is this a touch device ?\n",
    "Census_IsPenCapable - Is the device capable of pen input ?\n",
    "Census_IsAlwaysOnAlwaysConnectedCapable - Retreives information about whether the battery enables the device to be AlwaysOnAlwaysConnected .\n",
    "Wdft_IsGamer - Indicates whether the device is a gamer device or not based on its hardware combination.\n",
    "Wdft_RegionIdentifier - NA"
   ]
  },
  {
   "cell_type": "markdown",
   "metadata": {},
   "source": [
    "# Load Data "
   ]
  },
  {
   "cell_type": "markdown",
   "metadata": {},
   "source": [
    "### To Consume less Memory : Define Data Types"
   ]
  },
  {
   "cell_type": "code",
   "execution_count": 10,
   "metadata": {
    "ExecuteTime": {
     "end_time": "2019-11-08T10:11:26.032153Z",
     "start_time": "2019-11-08T10:11:26.018760Z"
    }
   },
   "outputs": [],
   "source": [
    "dtypes = {\n",
    "    'MachineIdentifier': 'category',\n",
    "    'ProductName': 'category',\n",
    "    'EngineVersion': 'category',\n",
    "    'AppVersion': 'category',\n",
    "    'AvSigVersion': 'category',\n",
    "    'IsBeta': 'int8',\n",
    "    'RtpStateBitfield': 'float16',\n",
    "    'IsSxsPassiveMode': 'int8',\n",
    "    'DefaultBrowsersIdentifier': 'float16',\n",
    "    'AVProductStatesIdentifier': 'float32',\n",
    "    'AVProductsInstalled': 'float16',\n",
    "    'AVProductsEnabled': 'float16',\n",
    "    'HasTpm': 'int8',\n",
    "    'CountryIdentifier': 'int16',\n",
    "    'CityIdentifier': 'float32',\n",
    "    'OrganizationIdentifier': 'float16',\n",
    "    'GeoNameIdentifier': 'float16',\n",
    "    'LocaleEnglishNameIdentifier': 'int8',\n",
    "    'Platform': 'category',\n",
    "    'Processor': 'category',\n",
    "    'OsVer': 'category',\n",
    "    'OsBuild': 'int16',\n",
    "    'OsSuite': 'int16',\n",
    "    'OsPlatformSubRelease': 'category',\n",
    "    'OsBuildLab': 'category',\n",
    "    'SkuEdition': 'category',\n",
    "    'IsProtected': 'float16',\n",
    "    'AutoSampleOptIn': 'int8',\n",
    "    'PuaMode': 'category',\n",
    "    'SMode': 'float16',\n",
    "    'IeVerIdentifier': 'float16',\n",
    "    'SmartScreen': 'category',\n",
    "    'Firewall': 'float16',\n",
    "    'UacLuaenable': 'float32',\n",
    "    'Census_MDC2FormFactor': 'category',\n",
    "    'Census_DeviceFamily': 'category',\n",
    "    'Census_OEMNameIdentifier': 'float16',\n",
    "    'Census_OEMModelIdentifier': 'float32',\n",
    "    'Census_ProcessorCoreCount': 'float16',\n",
    "    'Census_ProcessorManufacturerIdentifier': 'float16',\n",
    "    'Census_ProcessorModelIdentifier': 'float16',\n",
    "    'Census_ProcessorClass': 'category',\n",
    "    'Census_PrimaryDiskTotalCapacity': 'float32',\n",
    "    'Census_PrimaryDiskTypeName': 'category',\n",
    "    'Census_SystemVolumeTotalCapacity': 'float32',\n",
    "    'Census_HasOpticalDiskDrive': 'int8',\n",
    "    'Census_TotalPhysicalRAM': 'float32',\n",
    "    'Census_ChassisTypeName': 'category',\n",
    "    'Census_InternalPrimaryDiagonalDisplaySizeInInches': 'float16',\n",
    "    'Census_InternalPrimaryDisplayResolutionHorizontal': 'float16',\n",
    "    'Census_InternalPrimaryDisplayResolutionVertical': 'float16',\n",
    "    'Census_PowerPlatformRoleName': 'category',\n",
    "    'Census_InternalBatteryType': 'category',\n",
    "    'Census_InternalBatteryNumberOfCharges': 'float32',\n",
    "    'Census_OSVersion': 'category',\n",
    "    'Census_OSArchitecture': 'category',\n",
    "    'Census_OSBranch': 'category',\n",
    "    'Census_OSBuildNumber': 'int16',\n",
    "    'Census_OSBuildRevision': 'int32',\n",
    "    'Census_OSEdition': 'category',\n",
    "    'Census_OSSkuName': 'category',\n",
    "    'Census_OSInstallTypeName': 'category',\n",
    "    'Census_OSInstallLanguageIdentifier': 'float16',\n",
    "    'Census_OSUILocaleIdentifier': 'int16',\n",
    "    'Census_OSWUAutoUpdateOptionsName': 'category',\n",
    "    'Census_IsPortableOperatingSystem': 'int8',\n",
    "    'Census_GenuineStateName': 'category',\n",
    "    'Census_ActivationChannel': 'category',\n",
    "    'Census_IsFlightingInternal': 'float16',\n",
    "    'Census_IsFlightsDisabled': 'float16',\n",
    "    'Census_FlightRing': 'category',\n",
    "    'Census_ThresholdOptIn': 'float16',\n",
    "    'Census_FirmwareManufacturerIdentifier': 'float16',\n",
    "    'Census_FirmwareVersionIdentifier': 'float32',\n",
    "    'Census_IsSecureBootEnabled': 'int8',\n",
    "    'Census_IsWIMBootEnabled': 'float16',\n",
    "    'Census_IsVirtualDevice': 'float16',\n",
    "    'Census_IsTouchEnabled': 'int8',\n",
    "    'Census_IsPenCapable': 'int8',\n",
    "    'Census_IsAlwaysOnAlwaysConnectedCapable': 'float16',\n",
    "    'Wdft_IsGamer': 'float16',\n",
    "    'Wdft_RegionIdentifier': 'float16',\n",
    "    'HasDetections': 'int8'\n",
    "}"
   ]
  },
  {
   "cell_type": "markdown",
   "metadata": {},
   "source": [
    "### Loading via Dask"
   ]
  },
  {
   "cell_type": "code",
   "execution_count": 11,
   "metadata": {
    "ExecuteTime": {
     "end_time": "2019-11-08T10:13:22.386994Z",
     "start_time": "2019-11-08T10:11:26.696467Z"
    }
   },
   "outputs": [],
   "source": [
    "train_file_path = \"C:/Users/suryadeept/Desktop/CyberSecurity/Malware Detection-Microsoft/train/train.csv\"\n",
    "daskDF          = dd.read_csv(train_file_path,dtype = dtypes)\n",
    "trainDF         = daskDF.compute()"
   ]
  },
  {
   "cell_type": "code",
   "execution_count": 12,
   "metadata": {
    "ExecuteTime": {
     "end_time": "2019-11-08T10:13:22.399891Z",
     "start_time": "2019-11-08T10:13:22.389475Z"
    }
   },
   "outputs": [
    {
     "data": {
      "text/plain": [
       "(8921483, 83)"
      ]
     },
     "execution_count": 12,
     "metadata": {},
     "output_type": "execute_result"
    }
   ],
   "source": [
    "trainDF.shape"
   ]
  },
  {
   "cell_type": "code",
   "execution_count": 13,
   "metadata": {
    "ExecuteTime": {
     "end_time": "2019-11-08T10:13:28.176371Z",
     "start_time": "2019-11-08T10:13:22.406836Z"
    }
   },
   "outputs": [],
   "source": [
    "trainDF = convert_types(trainDF)"
   ]
  },
  {
   "cell_type": "code",
   "execution_count": 19,
   "metadata": {
    "ExecuteTime": {
     "end_time": "2019-11-08T06:23:09.261829Z",
     "start_time": "2019-11-08T06:23:09.177508Z"
    }
   },
   "outputs": [
    {
     "data": {
      "text/html": [
       "<div>\n",
       "<style scoped>\n",
       "    .dataframe tbody tr th:only-of-type {\n",
       "        vertical-align: middle;\n",
       "    }\n",
       "\n",
       "    .dataframe tbody tr th {\n",
       "        vertical-align: top;\n",
       "    }\n",
       "\n",
       "    .dataframe thead th {\n",
       "        text-align: right;\n",
       "    }\n",
       "</style>\n",
       "<table border=\"1\" class=\"dataframe\">\n",
       "  <thead>\n",
       "    <tr style=\"text-align: right;\">\n",
       "      <th></th>\n",
       "      <th>MachineIdentifier</th>\n",
       "      <th>ProductName</th>\n",
       "      <th>EngineVersion</th>\n",
       "      <th>AppVersion</th>\n",
       "      <th>AvSigVersion</th>\n",
       "      <th>IsBeta</th>\n",
       "      <th>RtpStateBitfield</th>\n",
       "      <th>IsSxsPassiveMode</th>\n",
       "      <th>DefaultBrowsersIdentifier</th>\n",
       "      <th>AVProductStatesIdentifier</th>\n",
       "      <th>AVProductsInstalled</th>\n",
       "      <th>AVProductsEnabled</th>\n",
       "      <th>HasTpm</th>\n",
       "      <th>CountryIdentifier</th>\n",
       "      <th>CityIdentifier</th>\n",
       "      <th>OrganizationIdentifier</th>\n",
       "      <th>GeoNameIdentifier</th>\n",
       "      <th>LocaleEnglishNameIdentifier</th>\n",
       "      <th>Platform</th>\n",
       "      <th>Processor</th>\n",
       "      <th>OsVer</th>\n",
       "      <th>OsBuild</th>\n",
       "      <th>OsSuite</th>\n",
       "      <th>OsPlatformSubRelease</th>\n",
       "      <th>OsBuildLab</th>\n",
       "      <th>SkuEdition</th>\n",
       "      <th>IsProtected</th>\n",
       "      <th>AutoSampleOptIn</th>\n",
       "      <th>PuaMode</th>\n",
       "      <th>SMode</th>\n",
       "      <th>IeVerIdentifier</th>\n",
       "      <th>SmartScreen</th>\n",
       "      <th>Firewall</th>\n",
       "      <th>UacLuaenable</th>\n",
       "      <th>Census_MDC2FormFactor</th>\n",
       "      <th>Census_DeviceFamily</th>\n",
       "      <th>Census_OEMNameIdentifier</th>\n",
       "      <th>Census_OEMModelIdentifier</th>\n",
       "      <th>Census_ProcessorCoreCount</th>\n",
       "      <th>Census_ProcessorManufacturerIdentifier</th>\n",
       "      <th>Census_ProcessorModelIdentifier</th>\n",
       "      <th>Census_ProcessorClass</th>\n",
       "      <th>Census_PrimaryDiskTotalCapacity</th>\n",
       "      <th>Census_PrimaryDiskTypeName</th>\n",
       "      <th>Census_SystemVolumeTotalCapacity</th>\n",
       "      <th>Census_HasOpticalDiskDrive</th>\n",
       "      <th>Census_TotalPhysicalRAM</th>\n",
       "      <th>Census_ChassisTypeName</th>\n",
       "      <th>Census_InternalPrimaryDiagonalDisplaySizeInInches</th>\n",
       "      <th>Census_InternalPrimaryDisplayResolutionHorizontal</th>\n",
       "      <th>Census_InternalPrimaryDisplayResolutionVertical</th>\n",
       "      <th>Census_PowerPlatformRoleName</th>\n",
       "      <th>Census_InternalBatteryType</th>\n",
       "      <th>Census_InternalBatteryNumberOfCharges</th>\n",
       "      <th>Census_OSVersion</th>\n",
       "      <th>Census_OSArchitecture</th>\n",
       "      <th>Census_OSBranch</th>\n",
       "      <th>Census_OSBuildNumber</th>\n",
       "      <th>Census_OSBuildRevision</th>\n",
       "      <th>Census_OSEdition</th>\n",
       "      <th>Census_OSSkuName</th>\n",
       "      <th>Census_OSInstallTypeName</th>\n",
       "      <th>Census_OSInstallLanguageIdentifier</th>\n",
       "      <th>Census_OSUILocaleIdentifier</th>\n",
       "      <th>Census_OSWUAutoUpdateOptionsName</th>\n",
       "      <th>Census_IsPortableOperatingSystem</th>\n",
       "      <th>Census_GenuineStateName</th>\n",
       "      <th>Census_ActivationChannel</th>\n",
       "      <th>Census_IsFlightingInternal</th>\n",
       "      <th>Census_IsFlightsDisabled</th>\n",
       "      <th>Census_FlightRing</th>\n",
       "      <th>Census_ThresholdOptIn</th>\n",
       "      <th>Census_FirmwareManufacturerIdentifier</th>\n",
       "      <th>Census_FirmwareVersionIdentifier</th>\n",
       "      <th>Census_IsSecureBootEnabled</th>\n",
       "      <th>Census_IsWIMBootEnabled</th>\n",
       "      <th>Census_IsVirtualDevice</th>\n",
       "      <th>Census_IsTouchEnabled</th>\n",
       "      <th>Census_IsPenCapable</th>\n",
       "      <th>Census_IsAlwaysOnAlwaysConnectedCapable</th>\n",
       "      <th>Wdft_IsGamer</th>\n",
       "      <th>Wdft_RegionIdentifier</th>\n",
       "      <th>HasDetections</th>\n",
       "    </tr>\n",
       "  </thead>\n",
       "  <tbody>\n",
       "    <tr>\n",
       "      <th>0</th>\n",
       "      <td>0000028988387b115f69f31a3bf04f09</td>\n",
       "      <td>win8defender</td>\n",
       "      <td>1.1.15100.1</td>\n",
       "      <td>4.18.1807.18075</td>\n",
       "      <td>1.273.1735.0</td>\n",
       "      <td>0</td>\n",
       "      <td>7.0</td>\n",
       "      <td>0</td>\n",
       "      <td>NaN</td>\n",
       "      <td>53447.0</td>\n",
       "      <td>1.0</td>\n",
       "      <td>1.0</td>\n",
       "      <td>1</td>\n",
       "      <td>29</td>\n",
       "      <td>128035.0</td>\n",
       "      <td>18.0</td>\n",
       "      <td>35.0</td>\n",
       "      <td>-85</td>\n",
       "      <td>windows10</td>\n",
       "      <td>x64</td>\n",
       "      <td>10.0.0.0</td>\n",
       "      <td>17134</td>\n",
       "      <td>256</td>\n",
       "      <td>rs4</td>\n",
       "      <td>17134.1.amd64fre.rs4_release.180410-1804</td>\n",
       "      <td>Pro</td>\n",
       "      <td>1.0</td>\n",
       "      <td>0</td>\n",
       "      <td>NaN</td>\n",
       "      <td>0.0</td>\n",
       "      <td>137.0</td>\n",
       "      <td>NaN</td>\n",
       "      <td>1.0</td>\n",
       "      <td>1.0</td>\n",
       "      <td>Desktop</td>\n",
       "      <td>Windows.Desktop</td>\n",
       "      <td>2668.0</td>\n",
       "      <td>9124.0</td>\n",
       "      <td>4.0</td>\n",
       "      <td>5.0</td>\n",
       "      <td>2340.0</td>\n",
       "      <td>NaN</td>\n",
       "      <td>476940.0</td>\n",
       "      <td>HDD</td>\n",
       "      <td>299451.0</td>\n",
       "      <td>0</td>\n",
       "      <td>4096.0</td>\n",
       "      <td>Desktop</td>\n",
       "      <td>18.906250</td>\n",
       "      <td>1440.0</td>\n",
       "      <td>900.0</td>\n",
       "      <td>Desktop</td>\n",
       "      <td>NaN</td>\n",
       "      <td>4.294967e+09</td>\n",
       "      <td>10.0.17134.165</td>\n",
       "      <td>amd64</td>\n",
       "      <td>rs4_release</td>\n",
       "      <td>17134</td>\n",
       "      <td>165</td>\n",
       "      <td>Professional</td>\n",
       "      <td>PROFESSIONAL</td>\n",
       "      <td>UUPUpgrade</td>\n",
       "      <td>26.0</td>\n",
       "      <td>119</td>\n",
       "      <td>UNKNOWN</td>\n",
       "      <td>0</td>\n",
       "      <td>IS_GENUINE</td>\n",
       "      <td>Retail</td>\n",
       "      <td>NaN</td>\n",
       "      <td>0.0</td>\n",
       "      <td>Retail</td>\n",
       "      <td>NaN</td>\n",
       "      <td>628.0</td>\n",
       "      <td>36144.0</td>\n",
       "      <td>0</td>\n",
       "      <td>NaN</td>\n",
       "      <td>0.0</td>\n",
       "      <td>0</td>\n",
       "      <td>0</td>\n",
       "      <td>0.0</td>\n",
       "      <td>0.0</td>\n",
       "      <td>10.0</td>\n",
       "      <td>0</td>\n",
       "    </tr>\n",
       "    <tr>\n",
       "      <th>1</th>\n",
       "      <td>000007535c3f730efa9ea0b7ef1bd645</td>\n",
       "      <td>win8defender</td>\n",
       "      <td>1.1.14600.4</td>\n",
       "      <td>4.13.17134.1</td>\n",
       "      <td>1.263.48.0</td>\n",
       "      <td>0</td>\n",
       "      <td>7.0</td>\n",
       "      <td>0</td>\n",
       "      <td>NaN</td>\n",
       "      <td>53447.0</td>\n",
       "      <td>1.0</td>\n",
       "      <td>1.0</td>\n",
       "      <td>1</td>\n",
       "      <td>93</td>\n",
       "      <td>1482.0</td>\n",
       "      <td>18.0</td>\n",
       "      <td>119.0</td>\n",
       "      <td>64</td>\n",
       "      <td>windows10</td>\n",
       "      <td>x64</td>\n",
       "      <td>10.0.0.0</td>\n",
       "      <td>17134</td>\n",
       "      <td>256</td>\n",
       "      <td>rs4</td>\n",
       "      <td>17134.1.amd64fre.rs4_release.180410-1804</td>\n",
       "      <td>Pro</td>\n",
       "      <td>1.0</td>\n",
       "      <td>0</td>\n",
       "      <td>NaN</td>\n",
       "      <td>0.0</td>\n",
       "      <td>137.0</td>\n",
       "      <td>NaN</td>\n",
       "      <td>1.0</td>\n",
       "      <td>1.0</td>\n",
       "      <td>Notebook</td>\n",
       "      <td>Windows.Desktop</td>\n",
       "      <td>2668.0</td>\n",
       "      <td>91656.0</td>\n",
       "      <td>4.0</td>\n",
       "      <td>5.0</td>\n",
       "      <td>2404.0</td>\n",
       "      <td>NaN</td>\n",
       "      <td>476940.0</td>\n",
       "      <td>HDD</td>\n",
       "      <td>102385.0</td>\n",
       "      <td>0</td>\n",
       "      <td>4096.0</td>\n",
       "      <td>Notebook</td>\n",
       "      <td>13.898438</td>\n",
       "      <td>1366.0</td>\n",
       "      <td>768.0</td>\n",
       "      <td>Mobile</td>\n",
       "      <td>NaN</td>\n",
       "      <td>1.000000e+00</td>\n",
       "      <td>10.0.17134.1</td>\n",
       "      <td>amd64</td>\n",
       "      <td>rs4_release</td>\n",
       "      <td>17134</td>\n",
       "      <td>1</td>\n",
       "      <td>Professional</td>\n",
       "      <td>PROFESSIONAL</td>\n",
       "      <td>IBSClean</td>\n",
       "      <td>8.0</td>\n",
       "      <td>31</td>\n",
       "      <td>UNKNOWN</td>\n",
       "      <td>0</td>\n",
       "      <td>OFFLINE</td>\n",
       "      <td>Retail</td>\n",
       "      <td>NaN</td>\n",
       "      <td>0.0</td>\n",
       "      <td>NOT_SET</td>\n",
       "      <td>NaN</td>\n",
       "      <td>628.0</td>\n",
       "      <td>57858.0</td>\n",
       "      <td>0</td>\n",
       "      <td>NaN</td>\n",
       "      <td>0.0</td>\n",
       "      <td>0</td>\n",
       "      <td>0</td>\n",
       "      <td>0.0</td>\n",
       "      <td>0.0</td>\n",
       "      <td>8.0</td>\n",
       "      <td>0</td>\n",
       "    </tr>\n",
       "    <tr>\n",
       "      <th>2</th>\n",
       "      <td>000007905a28d863f6d0d597892cd692</td>\n",
       "      <td>win8defender</td>\n",
       "      <td>1.1.15100.1</td>\n",
       "      <td>4.18.1807.18075</td>\n",
       "      <td>1.273.1341.0</td>\n",
       "      <td>0</td>\n",
       "      <td>7.0</td>\n",
       "      <td>0</td>\n",
       "      <td>NaN</td>\n",
       "      <td>53447.0</td>\n",
       "      <td>1.0</td>\n",
       "      <td>1.0</td>\n",
       "      <td>1</td>\n",
       "      <td>86</td>\n",
       "      <td>153579.0</td>\n",
       "      <td>18.0</td>\n",
       "      <td>64.0</td>\n",
       "      <td>49</td>\n",
       "      <td>windows10</td>\n",
       "      <td>x64</td>\n",
       "      <td>10.0.0.0</td>\n",
       "      <td>17134</td>\n",
       "      <td>768</td>\n",
       "      <td>rs4</td>\n",
       "      <td>17134.1.amd64fre.rs4_release.180410-1804</td>\n",
       "      <td>Home</td>\n",
       "      <td>1.0</td>\n",
       "      <td>0</td>\n",
       "      <td>NaN</td>\n",
       "      <td>0.0</td>\n",
       "      <td>137.0</td>\n",
       "      <td>RequireAdmin</td>\n",
       "      <td>1.0</td>\n",
       "      <td>1.0</td>\n",
       "      <td>Desktop</td>\n",
       "      <td>Windows.Desktop</td>\n",
       "      <td>4908.0</td>\n",
       "      <td>317701.0</td>\n",
       "      <td>4.0</td>\n",
       "      <td>5.0</td>\n",
       "      <td>1972.0</td>\n",
       "      <td>NaN</td>\n",
       "      <td>114473.0</td>\n",
       "      <td>SSD</td>\n",
       "      <td>113907.0</td>\n",
       "      <td>0</td>\n",
       "      <td>4096.0</td>\n",
       "      <td>Desktop</td>\n",
       "      <td>21.500000</td>\n",
       "      <td>1920.0</td>\n",
       "      <td>1080.0</td>\n",
       "      <td>Desktop</td>\n",
       "      <td>NaN</td>\n",
       "      <td>4.294967e+09</td>\n",
       "      <td>10.0.17134.165</td>\n",
       "      <td>amd64</td>\n",
       "      <td>rs4_release</td>\n",
       "      <td>17134</td>\n",
       "      <td>165</td>\n",
       "      <td>Core</td>\n",
       "      <td>CORE</td>\n",
       "      <td>UUPUpgrade</td>\n",
       "      <td>7.0</td>\n",
       "      <td>30</td>\n",
       "      <td>FullAuto</td>\n",
       "      <td>0</td>\n",
       "      <td>IS_GENUINE</td>\n",
       "      <td>OEM:NONSLP</td>\n",
       "      <td>NaN</td>\n",
       "      <td>0.0</td>\n",
       "      <td>Retail</td>\n",
       "      <td>NaN</td>\n",
       "      <td>142.0</td>\n",
       "      <td>52682.0</td>\n",
       "      <td>0</td>\n",
       "      <td>NaN</td>\n",
       "      <td>0.0</td>\n",
       "      <td>0</td>\n",
       "      <td>0</td>\n",
       "      <td>0.0</td>\n",
       "      <td>0.0</td>\n",
       "      <td>3.0</td>\n",
       "      <td>0</td>\n",
       "    </tr>\n",
       "    <tr>\n",
       "      <th>3</th>\n",
       "      <td>00000b11598a75ea8ba1beea8459149f</td>\n",
       "      <td>win8defender</td>\n",
       "      <td>1.1.15100.1</td>\n",
       "      <td>4.18.1807.18075</td>\n",
       "      <td>1.273.1527.0</td>\n",
       "      <td>0</td>\n",
       "      <td>7.0</td>\n",
       "      <td>0</td>\n",
       "      <td>NaN</td>\n",
       "      <td>53447.0</td>\n",
       "      <td>1.0</td>\n",
       "      <td>1.0</td>\n",
       "      <td>1</td>\n",
       "      <td>88</td>\n",
       "      <td>20710.0</td>\n",
       "      <td>NaN</td>\n",
       "      <td>117.0</td>\n",
       "      <td>115</td>\n",
       "      <td>windows10</td>\n",
       "      <td>x64</td>\n",
       "      <td>10.0.0.0</td>\n",
       "      <td>17134</td>\n",
       "      <td>256</td>\n",
       "      <td>rs4</td>\n",
       "      <td>17134.1.amd64fre.rs4_release.180410-1804</td>\n",
       "      <td>Pro</td>\n",
       "      <td>1.0</td>\n",
       "      <td>0</td>\n",
       "      <td>NaN</td>\n",
       "      <td>0.0</td>\n",
       "      <td>137.0</td>\n",
       "      <td>ExistsNotSet</td>\n",
       "      <td>1.0</td>\n",
       "      <td>1.0</td>\n",
       "      <td>Desktop</td>\n",
       "      <td>Windows.Desktop</td>\n",
       "      <td>1443.0</td>\n",
       "      <td>275890.0</td>\n",
       "      <td>4.0</td>\n",
       "      <td>5.0</td>\n",
       "      <td>2272.0</td>\n",
       "      <td>NaN</td>\n",
       "      <td>238475.0</td>\n",
       "      <td>UNKNOWN</td>\n",
       "      <td>227116.0</td>\n",
       "      <td>0</td>\n",
       "      <td>4096.0</td>\n",
       "      <td>MiniTower</td>\n",
       "      <td>18.500000</td>\n",
       "      <td>1366.0</td>\n",
       "      <td>768.0</td>\n",
       "      <td>Desktop</td>\n",
       "      <td>NaN</td>\n",
       "      <td>4.294967e+09</td>\n",
       "      <td>10.0.17134.228</td>\n",
       "      <td>amd64</td>\n",
       "      <td>rs4_release</td>\n",
       "      <td>17134</td>\n",
       "      <td>228</td>\n",
       "      <td>Professional</td>\n",
       "      <td>PROFESSIONAL</td>\n",
       "      <td>UUPUpgrade</td>\n",
       "      <td>17.0</td>\n",
       "      <td>64</td>\n",
       "      <td>FullAuto</td>\n",
       "      <td>0</td>\n",
       "      <td>IS_GENUINE</td>\n",
       "      <td>OEM:NONSLP</td>\n",
       "      <td>NaN</td>\n",
       "      <td>0.0</td>\n",
       "      <td>Retail</td>\n",
       "      <td>NaN</td>\n",
       "      <td>355.0</td>\n",
       "      <td>20050.0</td>\n",
       "      <td>0</td>\n",
       "      <td>NaN</td>\n",
       "      <td>0.0</td>\n",
       "      <td>0</td>\n",
       "      <td>0</td>\n",
       "      <td>0.0</td>\n",
       "      <td>0.0</td>\n",
       "      <td>3.0</td>\n",
       "      <td>1</td>\n",
       "    </tr>\n",
       "    <tr>\n",
       "      <th>4</th>\n",
       "      <td>000014a5f00daa18e76b81417eeb99fc</td>\n",
       "      <td>win8defender</td>\n",
       "      <td>1.1.15100.1</td>\n",
       "      <td>4.18.1807.18075</td>\n",
       "      <td>1.273.1379.0</td>\n",
       "      <td>0</td>\n",
       "      <td>7.0</td>\n",
       "      <td>0</td>\n",
       "      <td>NaN</td>\n",
       "      <td>53447.0</td>\n",
       "      <td>1.0</td>\n",
       "      <td>1.0</td>\n",
       "      <td>1</td>\n",
       "      <td>18</td>\n",
       "      <td>37376.0</td>\n",
       "      <td>NaN</td>\n",
       "      <td>277.0</td>\n",
       "      <td>75</td>\n",
       "      <td>windows10</td>\n",
       "      <td>x64</td>\n",
       "      <td>10.0.0.0</td>\n",
       "      <td>17134</td>\n",
       "      <td>768</td>\n",
       "      <td>rs4</td>\n",
       "      <td>17134.1.amd64fre.rs4_release.180410-1804</td>\n",
       "      <td>Home</td>\n",
       "      <td>1.0</td>\n",
       "      <td>0</td>\n",
       "      <td>NaN</td>\n",
       "      <td>0.0</td>\n",
       "      <td>137.0</td>\n",
       "      <td>RequireAdmin</td>\n",
       "      <td>1.0</td>\n",
       "      <td>1.0</td>\n",
       "      <td>Notebook</td>\n",
       "      <td>Windows.Desktop</td>\n",
       "      <td>1443.0</td>\n",
       "      <td>331929.0</td>\n",
       "      <td>4.0</td>\n",
       "      <td>5.0</td>\n",
       "      <td>2500.0</td>\n",
       "      <td>NaN</td>\n",
       "      <td>476940.0</td>\n",
       "      <td>HDD</td>\n",
       "      <td>101900.0</td>\n",
       "      <td>0</td>\n",
       "      <td>6144.0</td>\n",
       "      <td>Portable</td>\n",
       "      <td>14.000000</td>\n",
       "      <td>1366.0</td>\n",
       "      <td>768.0</td>\n",
       "      <td>Mobile</td>\n",
       "      <td>lion</td>\n",
       "      <td>0.000000e+00</td>\n",
       "      <td>10.0.17134.191</td>\n",
       "      <td>amd64</td>\n",
       "      <td>rs4_release</td>\n",
       "      <td>17134</td>\n",
       "      <td>191</td>\n",
       "      <td>Core</td>\n",
       "      <td>CORE</td>\n",
       "      <td>Update</td>\n",
       "      <td>8.0</td>\n",
       "      <td>31</td>\n",
       "      <td>FullAuto</td>\n",
       "      <td>0</td>\n",
       "      <td>IS_GENUINE</td>\n",
       "      <td>Retail</td>\n",
       "      <td>0.0</td>\n",
       "      <td>0.0</td>\n",
       "      <td>Retail</td>\n",
       "      <td>0.0</td>\n",
       "      <td>355.0</td>\n",
       "      <td>19844.0</td>\n",
       "      <td>0</td>\n",
       "      <td>0.0</td>\n",
       "      <td>0.0</td>\n",
       "      <td>0</td>\n",
       "      <td>0</td>\n",
       "      <td>0.0</td>\n",
       "      <td>0.0</td>\n",
       "      <td>1.0</td>\n",
       "      <td>1</td>\n",
       "    </tr>\n",
       "  </tbody>\n",
       "</table>\n",
       "</div>"
      ],
      "text/plain": [
       "                  MachineIdentifier   ProductName EngineVersion  \\\n",
       "0  0000028988387b115f69f31a3bf04f09  win8defender   1.1.15100.1   \n",
       "1  000007535c3f730efa9ea0b7ef1bd645  win8defender   1.1.14600.4   \n",
       "2  000007905a28d863f6d0d597892cd692  win8defender   1.1.15100.1   \n",
       "3  00000b11598a75ea8ba1beea8459149f  win8defender   1.1.15100.1   \n",
       "4  000014a5f00daa18e76b81417eeb99fc  win8defender   1.1.15100.1   \n",
       "\n",
       "        AppVersion  AvSigVersion  IsBeta  RtpStateBitfield  IsSxsPassiveMode  \\\n",
       "0  4.18.1807.18075  1.273.1735.0       0               7.0                 0   \n",
       "1     4.13.17134.1    1.263.48.0       0               7.0                 0   \n",
       "2  4.18.1807.18075  1.273.1341.0       0               7.0                 0   \n",
       "3  4.18.1807.18075  1.273.1527.0       0               7.0                 0   \n",
       "4  4.18.1807.18075  1.273.1379.0       0               7.0                 0   \n",
       "\n",
       "   DefaultBrowsersIdentifier  AVProductStatesIdentifier  AVProductsInstalled  \\\n",
       "0                        NaN                    53447.0                  1.0   \n",
       "1                        NaN                    53447.0                  1.0   \n",
       "2                        NaN                    53447.0                  1.0   \n",
       "3                        NaN                    53447.0                  1.0   \n",
       "4                        NaN                    53447.0                  1.0   \n",
       "\n",
       "   AVProductsEnabled  HasTpm  CountryIdentifier  CityIdentifier  \\\n",
       "0                1.0       1                 29        128035.0   \n",
       "1                1.0       1                 93          1482.0   \n",
       "2                1.0       1                 86        153579.0   \n",
       "3                1.0       1                 88         20710.0   \n",
       "4                1.0       1                 18         37376.0   \n",
       "\n",
       "   OrganizationIdentifier  GeoNameIdentifier  LocaleEnglishNameIdentifier  \\\n",
       "0                    18.0               35.0                          -85   \n",
       "1                    18.0              119.0                           64   \n",
       "2                    18.0               64.0                           49   \n",
       "3                     NaN              117.0                          115   \n",
       "4                     NaN              277.0                           75   \n",
       "\n",
       "    Platform Processor     OsVer  OsBuild  OsSuite OsPlatformSubRelease  \\\n",
       "0  windows10       x64  10.0.0.0    17134      256                  rs4   \n",
       "1  windows10       x64  10.0.0.0    17134      256                  rs4   \n",
       "2  windows10       x64  10.0.0.0    17134      768                  rs4   \n",
       "3  windows10       x64  10.0.0.0    17134      256                  rs4   \n",
       "4  windows10       x64  10.0.0.0    17134      768                  rs4   \n",
       "\n",
       "                                 OsBuildLab SkuEdition  IsProtected  \\\n",
       "0  17134.1.amd64fre.rs4_release.180410-1804        Pro          1.0   \n",
       "1  17134.1.amd64fre.rs4_release.180410-1804        Pro          1.0   \n",
       "2  17134.1.amd64fre.rs4_release.180410-1804       Home          1.0   \n",
       "3  17134.1.amd64fre.rs4_release.180410-1804        Pro          1.0   \n",
       "4  17134.1.amd64fre.rs4_release.180410-1804       Home          1.0   \n",
       "\n",
       "   AutoSampleOptIn PuaMode  SMode  IeVerIdentifier   SmartScreen  Firewall  \\\n",
       "0                0     NaN    0.0            137.0           NaN       1.0   \n",
       "1                0     NaN    0.0            137.0           NaN       1.0   \n",
       "2                0     NaN    0.0            137.0  RequireAdmin       1.0   \n",
       "3                0     NaN    0.0            137.0  ExistsNotSet       1.0   \n",
       "4                0     NaN    0.0            137.0  RequireAdmin       1.0   \n",
       "\n",
       "   UacLuaenable Census_MDC2FormFactor Census_DeviceFamily  \\\n",
       "0           1.0               Desktop     Windows.Desktop   \n",
       "1           1.0              Notebook     Windows.Desktop   \n",
       "2           1.0               Desktop     Windows.Desktop   \n",
       "3           1.0               Desktop     Windows.Desktop   \n",
       "4           1.0              Notebook     Windows.Desktop   \n",
       "\n",
       "   Census_OEMNameIdentifier  Census_OEMModelIdentifier  \\\n",
       "0                    2668.0                     9124.0   \n",
       "1                    2668.0                    91656.0   \n",
       "2                    4908.0                   317701.0   \n",
       "3                    1443.0                   275890.0   \n",
       "4                    1443.0                   331929.0   \n",
       "\n",
       "   Census_ProcessorCoreCount  Census_ProcessorManufacturerIdentifier  \\\n",
       "0                        4.0                                     5.0   \n",
       "1                        4.0                                     5.0   \n",
       "2                        4.0                                     5.0   \n",
       "3                        4.0                                     5.0   \n",
       "4                        4.0                                     5.0   \n",
       "\n",
       "   Census_ProcessorModelIdentifier Census_ProcessorClass  \\\n",
       "0                           2340.0                   NaN   \n",
       "1                           2404.0                   NaN   \n",
       "2                           1972.0                   NaN   \n",
       "3                           2272.0                   NaN   \n",
       "4                           2500.0                   NaN   \n",
       "\n",
       "   Census_PrimaryDiskTotalCapacity Census_PrimaryDiskTypeName  \\\n",
       "0                         476940.0                        HDD   \n",
       "1                         476940.0                        HDD   \n",
       "2                         114473.0                        SSD   \n",
       "3                         238475.0                    UNKNOWN   \n",
       "4                         476940.0                        HDD   \n",
       "\n",
       "   Census_SystemVolumeTotalCapacity  Census_HasOpticalDiskDrive  \\\n",
       "0                          299451.0                           0   \n",
       "1                          102385.0                           0   \n",
       "2                          113907.0                           0   \n",
       "3                          227116.0                           0   \n",
       "4                          101900.0                           0   \n",
       "\n",
       "   Census_TotalPhysicalRAM Census_ChassisTypeName  \\\n",
       "0                   4096.0                Desktop   \n",
       "1                   4096.0               Notebook   \n",
       "2                   4096.0                Desktop   \n",
       "3                   4096.0              MiniTower   \n",
       "4                   6144.0               Portable   \n",
       "\n",
       "   Census_InternalPrimaryDiagonalDisplaySizeInInches  \\\n",
       "0                                          18.906250   \n",
       "1                                          13.898438   \n",
       "2                                          21.500000   \n",
       "3                                          18.500000   \n",
       "4                                          14.000000   \n",
       "\n",
       "   Census_InternalPrimaryDisplayResolutionHorizontal  \\\n",
       "0                                             1440.0   \n",
       "1                                             1366.0   \n",
       "2                                             1920.0   \n",
       "3                                             1366.0   \n",
       "4                                             1366.0   \n",
       "\n",
       "   Census_InternalPrimaryDisplayResolutionVertical  \\\n",
       "0                                            900.0   \n",
       "1                                            768.0   \n",
       "2                                           1080.0   \n",
       "3                                            768.0   \n",
       "4                                            768.0   \n",
       "\n",
       "  Census_PowerPlatformRoleName Census_InternalBatteryType  \\\n",
       "0                      Desktop                        NaN   \n",
       "1                       Mobile                        NaN   \n",
       "2                      Desktop                        NaN   \n",
       "3                      Desktop                        NaN   \n",
       "4                       Mobile                       lion   \n",
       "\n",
       "   Census_InternalBatteryNumberOfCharges Census_OSVersion  \\\n",
       "0                           4.294967e+09   10.0.17134.165   \n",
       "1                           1.000000e+00     10.0.17134.1   \n",
       "2                           4.294967e+09   10.0.17134.165   \n",
       "3                           4.294967e+09   10.0.17134.228   \n",
       "4                           0.000000e+00   10.0.17134.191   \n",
       "\n",
       "  Census_OSArchitecture Census_OSBranch  Census_OSBuildNumber  \\\n",
       "0                 amd64     rs4_release                 17134   \n",
       "1                 amd64     rs4_release                 17134   \n",
       "2                 amd64     rs4_release                 17134   \n",
       "3                 amd64     rs4_release                 17134   \n",
       "4                 amd64     rs4_release                 17134   \n",
       "\n",
       "   Census_OSBuildRevision Census_OSEdition Census_OSSkuName  \\\n",
       "0                     165     Professional     PROFESSIONAL   \n",
       "1                       1     Professional     PROFESSIONAL   \n",
       "2                     165             Core             CORE   \n",
       "3                     228     Professional     PROFESSIONAL   \n",
       "4                     191             Core             CORE   \n",
       "\n",
       "  Census_OSInstallTypeName  Census_OSInstallLanguageIdentifier  \\\n",
       "0               UUPUpgrade                                26.0   \n",
       "1                 IBSClean                                 8.0   \n",
       "2               UUPUpgrade                                 7.0   \n",
       "3               UUPUpgrade                                17.0   \n",
       "4                   Update                                 8.0   \n",
       "\n",
       "   Census_OSUILocaleIdentifier Census_OSWUAutoUpdateOptionsName  \\\n",
       "0                          119                          UNKNOWN   \n",
       "1                           31                          UNKNOWN   \n",
       "2                           30                         FullAuto   \n",
       "3                           64                         FullAuto   \n",
       "4                           31                         FullAuto   \n",
       "\n",
       "   Census_IsPortableOperatingSystem Census_GenuineStateName  \\\n",
       "0                                 0              IS_GENUINE   \n",
       "1                                 0                 OFFLINE   \n",
       "2                                 0              IS_GENUINE   \n",
       "3                                 0              IS_GENUINE   \n",
       "4                                 0              IS_GENUINE   \n",
       "\n",
       "  Census_ActivationChannel  Census_IsFlightingInternal  \\\n",
       "0                   Retail                         NaN   \n",
       "1                   Retail                         NaN   \n",
       "2               OEM:NONSLP                         NaN   \n",
       "3               OEM:NONSLP                         NaN   \n",
       "4                   Retail                         0.0   \n",
       "\n",
       "   Census_IsFlightsDisabled Census_FlightRing  Census_ThresholdOptIn  \\\n",
       "0                       0.0            Retail                    NaN   \n",
       "1                       0.0           NOT_SET                    NaN   \n",
       "2                       0.0            Retail                    NaN   \n",
       "3                       0.0            Retail                    NaN   \n",
       "4                       0.0            Retail                    0.0   \n",
       "\n",
       "   Census_FirmwareManufacturerIdentifier  Census_FirmwareVersionIdentifier  \\\n",
       "0                                  628.0                           36144.0   \n",
       "1                                  628.0                           57858.0   \n",
       "2                                  142.0                           52682.0   \n",
       "3                                  355.0                           20050.0   \n",
       "4                                  355.0                           19844.0   \n",
       "\n",
       "   Census_IsSecureBootEnabled  Census_IsWIMBootEnabled  \\\n",
       "0                           0                      NaN   \n",
       "1                           0                      NaN   \n",
       "2                           0                      NaN   \n",
       "3                           0                      NaN   \n",
       "4                           0                      0.0   \n",
       "\n",
       "   Census_IsVirtualDevice  Census_IsTouchEnabled  Census_IsPenCapable  \\\n",
       "0                     0.0                      0                    0   \n",
       "1                     0.0                      0                    0   \n",
       "2                     0.0                      0                    0   \n",
       "3                     0.0                      0                    0   \n",
       "4                     0.0                      0                    0   \n",
       "\n",
       "   Census_IsAlwaysOnAlwaysConnectedCapable  Wdft_IsGamer  \\\n",
       "0                                      0.0           0.0   \n",
       "1                                      0.0           0.0   \n",
       "2                                      0.0           0.0   \n",
       "3                                      0.0           0.0   \n",
       "4                                      0.0           0.0   \n",
       "\n",
       "   Wdft_RegionIdentifier  HasDetections  \n",
       "0                   10.0              0  \n",
       "1                    8.0              0  \n",
       "2                    3.0              0  \n",
       "3                    3.0              1  \n",
       "4                    1.0              1  "
      ]
     },
     "execution_count": 19,
     "metadata": {},
     "output_type": "execute_result"
    }
   ],
   "source": [
    "trainDF.head()"
   ]
  },
  {
   "cell_type": "markdown",
   "metadata": {},
   "source": [
    "### Basic Data Stats"
   ]
  },
  {
   "cell_type": "code",
   "execution_count": 20,
   "metadata": {
    "ExecuteTime": {
     "end_time": "2019-11-08T06:23:44.789839Z",
     "start_time": "2019-11-08T06:23:09.264310Z"
    }
   },
   "outputs": [
    {
     "data": {
      "text/html": [
       "<div>\n",
       "<style scoped>\n",
       "    .dataframe tbody tr th:only-of-type {\n",
       "        vertical-align: middle;\n",
       "    }\n",
       "\n",
       "    .dataframe tbody tr th {\n",
       "        vertical-align: top;\n",
       "    }\n",
       "\n",
       "    .dataframe thead th {\n",
       "        text-align: right;\n",
       "    }\n",
       "</style>\n",
       "<table border=\"1\" class=\"dataframe\">\n",
       "  <thead>\n",
       "    <tr style=\"text-align: right;\">\n",
       "      <th></th>\n",
       "      <th>Feature</th>\n",
       "      <th>Unique_values</th>\n",
       "      <th>Percentage of missing values</th>\n",
       "      <th>Percentage of values in the biggest category</th>\n",
       "      <th>Cor-relation with Target</th>\n",
       "      <th>type</th>\n",
       "    </tr>\n",
       "  </thead>\n",
       "  <tbody>\n",
       "    <tr>\n",
       "      <th>28</th>\n",
       "      <td>PuaMode</td>\n",
       "      <td>2</td>\n",
       "      <td>99.974119</td>\n",
       "      <td>99.974119</td>\n",
       "      <td>0</td>\n",
       "      <td>category</td>\n",
       "    </tr>\n",
       "    <tr>\n",
       "      <th>41</th>\n",
       "      <td>Census_ProcessorClass</td>\n",
       "      <td>3</td>\n",
       "      <td>99.589407</td>\n",
       "      <td>99.589407</td>\n",
       "      <td>0</td>\n",
       "      <td>category</td>\n",
       "    </tr>\n",
       "    <tr>\n",
       "      <th>8</th>\n",
       "      <td>DefaultBrowsersIdentifier</td>\n",
       "      <td>1730</td>\n",
       "      <td>95.141637</td>\n",
       "      <td>95.141637</td>\n",
       "      <td>0</td>\n",
       "      <td>float16</td>\n",
       "    </tr>\n",
       "    <tr>\n",
       "      <th>68</th>\n",
       "      <td>Census_IsFlightingInternal</td>\n",
       "      <td>2</td>\n",
       "      <td>83.044030</td>\n",
       "      <td>83.044030</td>\n",
       "      <td>0</td>\n",
       "      <td>float16</td>\n",
       "    </tr>\n",
       "    <tr>\n",
       "      <th>52</th>\n",
       "      <td>Census_InternalBatteryType</td>\n",
       "      <td>78</td>\n",
       "      <td>71.046809</td>\n",
       "      <td>71.046809</td>\n",
       "      <td>0</td>\n",
       "      <td>category</td>\n",
       "    </tr>\n",
       "    <tr>\n",
       "      <th>71</th>\n",
       "      <td>Census_ThresholdOptIn</td>\n",
       "      <td>2</td>\n",
       "      <td>63.524472</td>\n",
       "      <td>63.524472</td>\n",
       "      <td>0</td>\n",
       "      <td>float16</td>\n",
       "    </tr>\n",
       "    <tr>\n",
       "      <th>75</th>\n",
       "      <td>Census_IsWIMBootEnabled</td>\n",
       "      <td>2</td>\n",
       "      <td>63.439038</td>\n",
       "      <td>63.439038</td>\n",
       "      <td>0</td>\n",
       "      <td>float16</td>\n",
       "    </tr>\n",
       "    <tr>\n",
       "      <th>31</th>\n",
       "      <td>SmartScreen</td>\n",
       "      <td>21</td>\n",
       "      <td>35.610795</td>\n",
       "      <td>48.379658</td>\n",
       "      <td>0</td>\n",
       "      <td>category</td>\n",
       "    </tr>\n",
       "    <tr>\n",
       "      <th>15</th>\n",
       "      <td>OrganizationIdentifier</td>\n",
       "      <td>49</td>\n",
       "      <td>30.841487</td>\n",
       "      <td>47.037662</td>\n",
       "      <td>0</td>\n",
       "      <td>float16</td>\n",
       "    </tr>\n",
       "    <tr>\n",
       "      <th>29</th>\n",
       "      <td>SMode</td>\n",
       "      <td>2</td>\n",
       "      <td>6.027686</td>\n",
       "      <td>93.928812</td>\n",
       "      <td>0</td>\n",
       "      <td>float16</td>\n",
       "    </tr>\n",
       "  </tbody>\n",
       "</table>\n",
       "</div>"
      ],
      "text/plain": [
       "                       Feature  Unique_values  Percentage of missing values  \\\n",
       "28                     PuaMode              2                     99.974119   \n",
       "41       Census_ProcessorClass              3                     99.589407   \n",
       "8    DefaultBrowsersIdentifier           1730                     95.141637   \n",
       "68  Census_IsFlightingInternal              2                     83.044030   \n",
       "52  Census_InternalBatteryType             78                     71.046809   \n",
       "71       Census_ThresholdOptIn              2                     63.524472   \n",
       "75     Census_IsWIMBootEnabled              2                     63.439038   \n",
       "31                 SmartScreen             21                     35.610795   \n",
       "15      OrganizationIdentifier             49                     30.841487   \n",
       "29                       SMode              2                      6.027686   \n",
       "\n",
       "    Percentage of values in the biggest category  Cor-relation with Target  \\\n",
       "28                                     99.974119                         0   \n",
       "41                                     99.589407                         0   \n",
       "8                                      95.141637                         0   \n",
       "68                                     83.044030                         0   \n",
       "52                                     71.046809                         0   \n",
       "71                                     63.524472                         0   \n",
       "75                                     63.439038                         0   \n",
       "31                                     48.379658                         0   \n",
       "15                                     47.037662                         0   \n",
       "29                                     93.928812                         0   \n",
       "\n",
       "        type  \n",
       "28  category  \n",
       "41  category  \n",
       "8    float16  \n",
       "68   float16  \n",
       "52  category  \n",
       "71   float16  \n",
       "75   float16  \n",
       "31  category  \n",
       "15   float16  \n",
       "29   float16  "
      ]
     },
     "execution_count": 20,
     "metadata": {},
     "output_type": "execute_result"
    }
   ],
   "source": [
    "basicStats(trainDF,'HasDetections')[:10]"
   ]
  },
  {
   "cell_type": "markdown",
   "metadata": {},
   "source": [
    "- based on the above stats I chose to drop top three variable with highest number of missing values associated to it"
   ]
  },
  {
   "cell_type": "code",
   "execution_count": 22,
   "metadata": {
    "ExecuteTime": {
     "end_time": "2019-11-08T10:18:08.254254Z",
     "start_time": "2019-11-08T10:17:01.789517Z"
    }
   },
   "outputs": [],
   "source": [
    "trainDF.drop(columns = basicStats(trainDF,'HasDetections')['Feature'][:3].tolist(),inplace=True)"
   ]
  },
  {
   "cell_type": "code",
   "execution_count": 24,
   "metadata": {
    "ExecuteTime": {
     "end_time": "2019-11-11T08:33:10.567552Z",
     "start_time": "2019-11-11T08:33:10.561600Z"
    }
   },
   "outputs": [
    {
     "data": {
      "text/plain": [
       "(8921483, 80)"
      ]
     },
     "execution_count": 24,
     "metadata": {},
     "output_type": "execute_result"
    }
   ],
   "source": [
    "trainDF.shape"
   ]
  },
  {
   "cell_type": "markdown",
   "metadata": {},
   "source": [
    "### Zero-Variance Test "
   ]
  },
  {
   "cell_type": "code",
   "execution_count": 32,
   "metadata": {
    "ExecuteTime": {
     "end_time": "2019-11-08T07:53:49.360084Z",
     "start_time": "2019-11-08T07:52:59.722294Z"
    },
    "scrolled": true
   },
   "outputs": [
    {
     "data": {
      "text/html": [
       "<div>\n",
       "<style scoped>\n",
       "    .dataframe tbody tr th:only-of-type {\n",
       "        vertical-align: middle;\n",
       "    }\n",
       "\n",
       "    .dataframe tbody tr th {\n",
       "        vertical-align: top;\n",
       "    }\n",
       "\n",
       "    .dataframe thead th {\n",
       "        text-align: right;\n",
       "    }\n",
       "</style>\n",
       "<table border=\"1\" class=\"dataframe\">\n",
       "  <thead>\n",
       "    <tr style=\"text-align: right;\">\n",
       "      <th></th>\n",
       "      <th>Feature</th>\n",
       "      <th>Unique_values</th>\n",
       "      <th>Percentage of missing values</th>\n",
       "      <th>Percentage of values in the biggest category</th>\n",
       "      <th>Cor-relation with Target</th>\n",
       "      <th>Zero-Variance Check</th>\n",
       "      <th>type</th>\n",
       "    </tr>\n",
       "  </thead>\n",
       "  <tbody>\n",
       "    <tr>\n",
       "      <th>65</th>\n",
       "      <td>Census_IsFlightingInternal</td>\n",
       "      <td>2</td>\n",
       "      <td>83.04403</td>\n",
       "      <td>83.044030</td>\n",
       "      <td>0</td>\n",
       "      <td>2</td>\n",
       "      <td>float16</td>\n",
       "    </tr>\n",
       "    <tr>\n",
       "      <th>42</th>\n",
       "      <td>Census_HasOpticalDiskDrive</td>\n",
       "      <td>2</td>\n",
       "      <td>0.00000</td>\n",
       "      <td>92.281272</td>\n",
       "      <td>0</td>\n",
       "      <td>2</td>\n",
       "      <td>int8</td>\n",
       "    </tr>\n",
       "    <tr>\n",
       "      <th>26</th>\n",
       "      <td>AutoSampleOptIn</td>\n",
       "      <td>2</td>\n",
       "      <td>0.00000</td>\n",
       "      <td>99.997108</td>\n",
       "      <td>0</td>\n",
       "      <td>2</td>\n",
       "      <td>int8</td>\n",
       "    </tr>\n",
       "    <tr>\n",
       "      <th>11</th>\n",
       "      <td>HasTpm</td>\n",
       "      <td>2</td>\n",
       "      <td>0.00000</td>\n",
       "      <td>98.797106</td>\n",
       "      <td>0</td>\n",
       "      <td>2</td>\n",
       "      <td>int8</td>\n",
       "    </tr>\n",
       "    <tr>\n",
       "      <th>7</th>\n",
       "      <td>IsSxsPassiveMode</td>\n",
       "      <td>2</td>\n",
       "      <td>0.00000</td>\n",
       "      <td>98.266622</td>\n",
       "      <td>0</td>\n",
       "      <td>2</td>\n",
       "      <td>int8</td>\n",
       "    </tr>\n",
       "  </tbody>\n",
       "</table>\n",
       "</div>"
      ],
      "text/plain": [
       "                       Feature  Unique_values  Percentage of missing values  \\\n",
       "65  Census_IsFlightingInternal              2                      83.04403   \n",
       "42  Census_HasOpticalDiskDrive              2                       0.00000   \n",
       "26             AutoSampleOptIn              2                       0.00000   \n",
       "11                      HasTpm              2                       0.00000   \n",
       "7             IsSxsPassiveMode              2                       0.00000   \n",
       "\n",
       "    Percentage of values in the biggest category  Cor-relation with Target  \\\n",
       "65                                     83.044030                         0   \n",
       "42                                     92.281272                         0   \n",
       "26                                     99.997108                         0   \n",
       "11                                     98.797106                         0   \n",
       "7                                      98.266622                         0   \n",
       "\n",
       "    Zero-Variance Check     type  \n",
       "65                    2  float16  \n",
       "42                    2     int8  \n",
       "26                    2     int8  \n",
       "11                    2     int8  \n",
       "7                     2     int8  "
      ]
     },
     "execution_count": 32,
     "metadata": {},
     "output_type": "execute_result"
    }
   ],
   "source": [
    "basicStats(trainDF,'HasDetections').sort_values(by = 'Zero-Variance Check')[:5]"
   ]
  },
  {
   "cell_type": "markdown",
   "metadata": {},
   "source": [
    "- No columns with Zero-variance"
   ]
  },
  {
   "cell_type": "markdown",
   "metadata": {},
   "source": [
    "### High Cardinality Check"
   ]
  },
  {
   "cell_type": "code",
   "execution_count": 42,
   "metadata": {
    "ExecuteTime": {
     "end_time": "2019-11-08T09:23:48.931916Z",
     "start_time": "2019-11-08T09:22:43.104954Z"
    }
   },
   "outputs": [
    {
     "data": {
      "text/html": [
       "<div>\n",
       "<style scoped>\n",
       "    .dataframe tbody tr th:only-of-type {\n",
       "        vertical-align: middle;\n",
       "    }\n",
       "\n",
       "    .dataframe tbody tr th {\n",
       "        vertical-align: top;\n",
       "    }\n",
       "\n",
       "    .dataframe thead th {\n",
       "        text-align: right;\n",
       "    }\n",
       "</style>\n",
       "<table border=\"1\" class=\"dataframe\">\n",
       "  <thead>\n",
       "    <tr style=\"text-align: right;\">\n",
       "      <th></th>\n",
       "      <th>Feature</th>\n",
       "      <th>Unique_values</th>\n",
       "      <th>Percentage of missing values</th>\n",
       "      <th>Percentage of values in the biggest category</th>\n",
       "      <th>Cor-relation with Target</th>\n",
       "      <th>Zero-Variance Check</th>\n",
       "      <th>%_Cardinality</th>\n",
       "      <th>type</th>\n",
       "    </tr>\n",
       "  </thead>\n",
       "  <tbody>\n",
       "    <tr>\n",
       "      <th>0</th>\n",
       "      <td>MachineIdentifier</td>\n",
       "      <td>8921483</td>\n",
       "      <td>0.000000</td>\n",
       "      <td>0.000011</td>\n",
       "      <td>0</td>\n",
       "      <td>8921483</td>\n",
       "      <td>100.000000</td>\n",
       "      <td>category</td>\n",
       "    </tr>\n",
       "    <tr>\n",
       "      <th>41</th>\n",
       "      <td>Census_SystemVolumeTotalCapacity</td>\n",
       "      <td>536848</td>\n",
       "      <td>0.594094</td>\n",
       "      <td>0.594094</td>\n",
       "      <td>0</td>\n",
       "      <td>536848</td>\n",
       "      <td>6.017475</td>\n",
       "      <td>float32</td>\n",
       "    </tr>\n",
       "    <tr>\n",
       "      <th>35</th>\n",
       "      <td>Census_OEMModelIdentifier</td>\n",
       "      <td>175365</td>\n",
       "      <td>1.145919</td>\n",
       "      <td>3.416271</td>\n",
       "      <td>0</td>\n",
       "      <td>175365</td>\n",
       "      <td>1.965649</td>\n",
       "      <td>float32</td>\n",
       "    </tr>\n",
       "    <tr>\n",
       "      <th>13</th>\n",
       "      <td>CityIdentifier</td>\n",
       "      <td>107366</td>\n",
       "      <td>3.647477</td>\n",
       "      <td>3.647477</td>\n",
       "      <td>0</td>\n",
       "      <td>107366</td>\n",
       "      <td>1.203455</td>\n",
       "      <td>float32</td>\n",
       "    </tr>\n",
       "    <tr>\n",
       "      <th>70</th>\n",
       "      <td>Census_FirmwareVersionIdentifier</td>\n",
       "      <td>50494</td>\n",
       "      <td>1.794915</td>\n",
       "      <td>1.794915</td>\n",
       "      <td>0</td>\n",
       "      <td>50494</td>\n",
       "      <td>0.565982</td>\n",
       "      <td>float32</td>\n",
       "    </tr>\n",
       "  </tbody>\n",
       "</table>\n",
       "</div>"
      ],
      "text/plain": [
       "                             Feature  Unique_values  \\\n",
       "0                  MachineIdentifier        8921483   \n",
       "41  Census_SystemVolumeTotalCapacity         536848   \n",
       "35         Census_OEMModelIdentifier         175365   \n",
       "13                    CityIdentifier         107366   \n",
       "70  Census_FirmwareVersionIdentifier          50494   \n",
       "\n",
       "    Percentage of missing values  \\\n",
       "0                       0.000000   \n",
       "41                      0.594094   \n",
       "35                      1.145919   \n",
       "13                      3.647477   \n",
       "70                      1.794915   \n",
       "\n",
       "    Percentage of values in the biggest category  Cor-relation with Target  \\\n",
       "0                                       0.000011                         0   \n",
       "41                                      0.594094                         0   \n",
       "35                                      3.416271                         0   \n",
       "13                                      3.647477                         0   \n",
       "70                                      1.794915                         0   \n",
       "\n",
       "    Zero-Variance Check  %_Cardinality      type  \n",
       "0               8921483     100.000000  category  \n",
       "41               536848       6.017475   float32  \n",
       "35               175365       1.965649   float32  \n",
       "13               107366       1.203455   float32  \n",
       "70                50494       0.565982   float32  "
      ]
     },
     "execution_count": 42,
     "metadata": {},
     "output_type": "execute_result"
    }
   ],
   "source": [
    "basicStats(trainDF, 'HasDetections').sort_values(by='%_Cardinality',ascending=False)[:5]"
   ]
  },
  {
   "cell_type": "markdown",
   "metadata": {},
   "source": [
    "- it seems only the MachineIdentifier has very high % of unique values "
   ]
  },
  {
   "cell_type": "markdown",
   "metadata": {},
   "source": [
    "### Duplicate Rows"
   ]
  },
  {
   "cell_type": "code",
   "execution_count": 111,
   "metadata": {
    "ExecuteTime": {
     "end_time": "2019-11-11T09:43:43.588009Z",
     "start_time": "2019-11-11T09:43:00.200254Z"
    }
   },
   "outputs": [
    {
     "data": {
      "text/plain": [
       "(0, 80)"
      ]
     },
     "execution_count": 111,
     "metadata": {},
     "output_type": "execute_result"
    }
   ],
   "source": [
    "trainDF[trainDF.duplicated()].shape"
   ]
  },
  {
   "cell_type": "markdown",
   "metadata": {},
   "source": [
    "- No duplicate COlumns present"
   ]
  },
  {
   "cell_type": "markdown",
   "metadata": {},
   "source": [
    "# Pre-processing"
   ]
  },
  {
   "cell_type": "markdown",
   "metadata": {},
   "source": [
    "## Separating the DataFrame based on Type "
   ]
  },
  {
   "cell_type": "markdown",
   "metadata": {},
   "source": [
    "### Categorical Columns "
   ]
  },
  {
   "cell_type": "code",
   "execution_count": 100,
   "metadata": {
    "ExecuteTime": {
     "end_time": "2019-11-11T09:39:34.006554Z",
     "start_time": "2019-11-11T09:39:33.781371Z"
    }
   },
   "outputs": [],
   "source": [
    "trainCatDF = trainDF.select_dtypes(include=['category']).copy()"
   ]
  },
  {
   "cell_type": "code",
   "execution_count": 101,
   "metadata": {
    "ExecuteTime": {
     "end_time": "2019-11-11T09:39:34.488449Z",
     "start_time": "2019-11-11T09:39:34.469104Z"
    }
   },
   "outputs": [],
   "source": [
    "trainCatDF['HasDetections'] = trainDF['HasDetections'].copy()"
   ]
  },
  {
   "cell_type": "code",
   "execution_count": 102,
   "metadata": {
    "ExecuteTime": {
     "end_time": "2019-11-11T09:39:35.146783Z",
     "start_time": "2019-11-11T09:39:35.141327Z"
    }
   },
   "outputs": [
    {
     "data": {
      "text/plain": [
       "(8921483, 29)"
      ]
     },
     "execution_count": 102,
     "metadata": {},
     "output_type": "execute_result"
    }
   ],
   "source": [
    "trainCatDF.shape"
   ]
  },
  {
   "cell_type": "code",
   "execution_count": 28,
   "metadata": {
    "ExecuteTime": {
     "end_time": "2019-11-11T08:33:23.228959Z",
     "start_time": "2019-11-11T08:33:23.188784Z"
    }
   },
   "outputs": [
    {
     "data": {
      "text/html": [
       "<div>\n",
       "<style scoped>\n",
       "    .dataframe tbody tr th:only-of-type {\n",
       "        vertical-align: middle;\n",
       "    }\n",
       "\n",
       "    .dataframe tbody tr th {\n",
       "        vertical-align: top;\n",
       "    }\n",
       "\n",
       "    .dataframe thead th {\n",
       "        text-align: right;\n",
       "    }\n",
       "</style>\n",
       "<table border=\"1\" class=\"dataframe\">\n",
       "  <thead>\n",
       "    <tr style=\"text-align: right;\">\n",
       "      <th></th>\n",
       "      <th>MachineIdentifier</th>\n",
       "      <th>ProductName</th>\n",
       "      <th>EngineVersion</th>\n",
       "      <th>AppVersion</th>\n",
       "      <th>AvSigVersion</th>\n",
       "      <th>Platform</th>\n",
       "      <th>Processor</th>\n",
       "      <th>OsVer</th>\n",
       "      <th>OsPlatformSubRelease</th>\n",
       "      <th>OsBuildLab</th>\n",
       "      <th>SkuEdition</th>\n",
       "      <th>SmartScreen</th>\n",
       "      <th>Census_MDC2FormFactor</th>\n",
       "      <th>Census_DeviceFamily</th>\n",
       "      <th>Census_PrimaryDiskTypeName</th>\n",
       "      <th>Census_ChassisTypeName</th>\n",
       "      <th>Census_PowerPlatformRoleName</th>\n",
       "      <th>Census_InternalBatteryType</th>\n",
       "      <th>Census_OSVersion</th>\n",
       "      <th>Census_OSArchitecture</th>\n",
       "      <th>Census_OSBranch</th>\n",
       "      <th>Census_OSEdition</th>\n",
       "      <th>Census_OSSkuName</th>\n",
       "      <th>Census_OSInstallTypeName</th>\n",
       "      <th>Census_OSWUAutoUpdateOptionsName</th>\n",
       "      <th>Census_GenuineStateName</th>\n",
       "      <th>Census_ActivationChannel</th>\n",
       "      <th>Census_FlightRing</th>\n",
       "      <th>HasDetections</th>\n",
       "    </tr>\n",
       "  </thead>\n",
       "  <tbody>\n",
       "    <tr>\n",
       "      <th>0</th>\n",
       "      <td>0000028988387b115f69f31a3bf04f09</td>\n",
       "      <td>win8defender</td>\n",
       "      <td>1.1.15100.1</td>\n",
       "      <td>4.18.1807.18075</td>\n",
       "      <td>1.273.1735.0</td>\n",
       "      <td>windows10</td>\n",
       "      <td>x64</td>\n",
       "      <td>10.0.0.0</td>\n",
       "      <td>rs4</td>\n",
       "      <td>17134.1.amd64fre.rs4_release.180410-1804</td>\n",
       "      <td>Pro</td>\n",
       "      <td>NaN</td>\n",
       "      <td>Desktop</td>\n",
       "      <td>Windows.Desktop</td>\n",
       "      <td>HDD</td>\n",
       "      <td>Desktop</td>\n",
       "      <td>Desktop</td>\n",
       "      <td>NaN</td>\n",
       "      <td>10.0.17134.165</td>\n",
       "      <td>amd64</td>\n",
       "      <td>rs4_release</td>\n",
       "      <td>Professional</td>\n",
       "      <td>PROFESSIONAL</td>\n",
       "      <td>UUPUpgrade</td>\n",
       "      <td>UNKNOWN</td>\n",
       "      <td>IS_GENUINE</td>\n",
       "      <td>Retail</td>\n",
       "      <td>Retail</td>\n",
       "      <td>0</td>\n",
       "    </tr>\n",
       "    <tr>\n",
       "      <th>1</th>\n",
       "      <td>000007535c3f730efa9ea0b7ef1bd645</td>\n",
       "      <td>win8defender</td>\n",
       "      <td>1.1.14600.4</td>\n",
       "      <td>4.13.17134.1</td>\n",
       "      <td>1.263.48.0</td>\n",
       "      <td>windows10</td>\n",
       "      <td>x64</td>\n",
       "      <td>10.0.0.0</td>\n",
       "      <td>rs4</td>\n",
       "      <td>17134.1.amd64fre.rs4_release.180410-1804</td>\n",
       "      <td>Pro</td>\n",
       "      <td>NaN</td>\n",
       "      <td>Notebook</td>\n",
       "      <td>Windows.Desktop</td>\n",
       "      <td>HDD</td>\n",
       "      <td>Notebook</td>\n",
       "      <td>Mobile</td>\n",
       "      <td>NaN</td>\n",
       "      <td>10.0.17134.1</td>\n",
       "      <td>amd64</td>\n",
       "      <td>rs4_release</td>\n",
       "      <td>Professional</td>\n",
       "      <td>PROFESSIONAL</td>\n",
       "      <td>IBSClean</td>\n",
       "      <td>UNKNOWN</td>\n",
       "      <td>OFFLINE</td>\n",
       "      <td>Retail</td>\n",
       "      <td>NOT_SET</td>\n",
       "      <td>0</td>\n",
       "    </tr>\n",
       "    <tr>\n",
       "      <th>2</th>\n",
       "      <td>000007905a28d863f6d0d597892cd692</td>\n",
       "      <td>win8defender</td>\n",
       "      <td>1.1.15100.1</td>\n",
       "      <td>4.18.1807.18075</td>\n",
       "      <td>1.273.1341.0</td>\n",
       "      <td>windows10</td>\n",
       "      <td>x64</td>\n",
       "      <td>10.0.0.0</td>\n",
       "      <td>rs4</td>\n",
       "      <td>17134.1.amd64fre.rs4_release.180410-1804</td>\n",
       "      <td>Home</td>\n",
       "      <td>RequireAdmin</td>\n",
       "      <td>Desktop</td>\n",
       "      <td>Windows.Desktop</td>\n",
       "      <td>SSD</td>\n",
       "      <td>Desktop</td>\n",
       "      <td>Desktop</td>\n",
       "      <td>NaN</td>\n",
       "      <td>10.0.17134.165</td>\n",
       "      <td>amd64</td>\n",
       "      <td>rs4_release</td>\n",
       "      <td>Core</td>\n",
       "      <td>CORE</td>\n",
       "      <td>UUPUpgrade</td>\n",
       "      <td>FullAuto</td>\n",
       "      <td>IS_GENUINE</td>\n",
       "      <td>OEM:NONSLP</td>\n",
       "      <td>Retail</td>\n",
       "      <td>0</td>\n",
       "    </tr>\n",
       "    <tr>\n",
       "      <th>3</th>\n",
       "      <td>00000b11598a75ea8ba1beea8459149f</td>\n",
       "      <td>win8defender</td>\n",
       "      <td>1.1.15100.1</td>\n",
       "      <td>4.18.1807.18075</td>\n",
       "      <td>1.273.1527.0</td>\n",
       "      <td>windows10</td>\n",
       "      <td>x64</td>\n",
       "      <td>10.0.0.0</td>\n",
       "      <td>rs4</td>\n",
       "      <td>17134.1.amd64fre.rs4_release.180410-1804</td>\n",
       "      <td>Pro</td>\n",
       "      <td>ExistsNotSet</td>\n",
       "      <td>Desktop</td>\n",
       "      <td>Windows.Desktop</td>\n",
       "      <td>UNKNOWN</td>\n",
       "      <td>MiniTower</td>\n",
       "      <td>Desktop</td>\n",
       "      <td>NaN</td>\n",
       "      <td>10.0.17134.228</td>\n",
       "      <td>amd64</td>\n",
       "      <td>rs4_release</td>\n",
       "      <td>Professional</td>\n",
       "      <td>PROFESSIONAL</td>\n",
       "      <td>UUPUpgrade</td>\n",
       "      <td>FullAuto</td>\n",
       "      <td>IS_GENUINE</td>\n",
       "      <td>OEM:NONSLP</td>\n",
       "      <td>Retail</td>\n",
       "      <td>1</td>\n",
       "    </tr>\n",
       "    <tr>\n",
       "      <th>4</th>\n",
       "      <td>000014a5f00daa18e76b81417eeb99fc</td>\n",
       "      <td>win8defender</td>\n",
       "      <td>1.1.15100.1</td>\n",
       "      <td>4.18.1807.18075</td>\n",
       "      <td>1.273.1379.0</td>\n",
       "      <td>windows10</td>\n",
       "      <td>x64</td>\n",
       "      <td>10.0.0.0</td>\n",
       "      <td>rs4</td>\n",
       "      <td>17134.1.amd64fre.rs4_release.180410-1804</td>\n",
       "      <td>Home</td>\n",
       "      <td>RequireAdmin</td>\n",
       "      <td>Notebook</td>\n",
       "      <td>Windows.Desktop</td>\n",
       "      <td>HDD</td>\n",
       "      <td>Portable</td>\n",
       "      <td>Mobile</td>\n",
       "      <td>lion</td>\n",
       "      <td>10.0.17134.191</td>\n",
       "      <td>amd64</td>\n",
       "      <td>rs4_release</td>\n",
       "      <td>Core</td>\n",
       "      <td>CORE</td>\n",
       "      <td>Update</td>\n",
       "      <td>FullAuto</td>\n",
       "      <td>IS_GENUINE</td>\n",
       "      <td>Retail</td>\n",
       "      <td>Retail</td>\n",
       "      <td>1</td>\n",
       "    </tr>\n",
       "  </tbody>\n",
       "</table>\n",
       "</div>"
      ],
      "text/plain": [
       "                  MachineIdentifier   ProductName EngineVersion  \\\n",
       "0  0000028988387b115f69f31a3bf04f09  win8defender   1.1.15100.1   \n",
       "1  000007535c3f730efa9ea0b7ef1bd645  win8defender   1.1.14600.4   \n",
       "2  000007905a28d863f6d0d597892cd692  win8defender   1.1.15100.1   \n",
       "3  00000b11598a75ea8ba1beea8459149f  win8defender   1.1.15100.1   \n",
       "4  000014a5f00daa18e76b81417eeb99fc  win8defender   1.1.15100.1   \n",
       "\n",
       "        AppVersion  AvSigVersion   Platform Processor     OsVer  \\\n",
       "0  4.18.1807.18075  1.273.1735.0  windows10       x64  10.0.0.0   \n",
       "1     4.13.17134.1    1.263.48.0  windows10       x64  10.0.0.0   \n",
       "2  4.18.1807.18075  1.273.1341.0  windows10       x64  10.0.0.0   \n",
       "3  4.18.1807.18075  1.273.1527.0  windows10       x64  10.0.0.0   \n",
       "4  4.18.1807.18075  1.273.1379.0  windows10       x64  10.0.0.0   \n",
       "\n",
       "  OsPlatformSubRelease                                OsBuildLab SkuEdition  \\\n",
       "0                  rs4  17134.1.amd64fre.rs4_release.180410-1804        Pro   \n",
       "1                  rs4  17134.1.amd64fre.rs4_release.180410-1804        Pro   \n",
       "2                  rs4  17134.1.amd64fre.rs4_release.180410-1804       Home   \n",
       "3                  rs4  17134.1.amd64fre.rs4_release.180410-1804        Pro   \n",
       "4                  rs4  17134.1.amd64fre.rs4_release.180410-1804       Home   \n",
       "\n",
       "    SmartScreen Census_MDC2FormFactor Census_DeviceFamily  \\\n",
       "0           NaN               Desktop     Windows.Desktop   \n",
       "1           NaN              Notebook     Windows.Desktop   \n",
       "2  RequireAdmin               Desktop     Windows.Desktop   \n",
       "3  ExistsNotSet               Desktop     Windows.Desktop   \n",
       "4  RequireAdmin              Notebook     Windows.Desktop   \n",
       "\n",
       "  Census_PrimaryDiskTypeName Census_ChassisTypeName  \\\n",
       "0                        HDD                Desktop   \n",
       "1                        HDD               Notebook   \n",
       "2                        SSD                Desktop   \n",
       "3                    UNKNOWN              MiniTower   \n",
       "4                        HDD               Portable   \n",
       "\n",
       "  Census_PowerPlatformRoleName Census_InternalBatteryType Census_OSVersion  \\\n",
       "0                      Desktop                        NaN   10.0.17134.165   \n",
       "1                       Mobile                        NaN     10.0.17134.1   \n",
       "2                      Desktop                        NaN   10.0.17134.165   \n",
       "3                      Desktop                        NaN   10.0.17134.228   \n",
       "4                       Mobile                       lion   10.0.17134.191   \n",
       "\n",
       "  Census_OSArchitecture Census_OSBranch Census_OSEdition Census_OSSkuName  \\\n",
       "0                 amd64     rs4_release     Professional     PROFESSIONAL   \n",
       "1                 amd64     rs4_release     Professional     PROFESSIONAL   \n",
       "2                 amd64     rs4_release             Core             CORE   \n",
       "3                 amd64     rs4_release     Professional     PROFESSIONAL   \n",
       "4                 amd64     rs4_release             Core             CORE   \n",
       "\n",
       "  Census_OSInstallTypeName Census_OSWUAutoUpdateOptionsName  \\\n",
       "0               UUPUpgrade                          UNKNOWN   \n",
       "1                 IBSClean                          UNKNOWN   \n",
       "2               UUPUpgrade                         FullAuto   \n",
       "3               UUPUpgrade                         FullAuto   \n",
       "4                   Update                         FullAuto   \n",
       "\n",
       "  Census_GenuineStateName Census_ActivationChannel Census_FlightRing  \\\n",
       "0              IS_GENUINE                   Retail            Retail   \n",
       "1                 OFFLINE                   Retail           NOT_SET   \n",
       "2              IS_GENUINE               OEM:NONSLP            Retail   \n",
       "3              IS_GENUINE               OEM:NONSLP            Retail   \n",
       "4              IS_GENUINE                   Retail            Retail   \n",
       "\n",
       "   HasDetections  \n",
       "0              0  \n",
       "1              0  \n",
       "2              0  \n",
       "3              1  \n",
       "4              1  "
      ]
     },
     "execution_count": 28,
     "metadata": {},
     "output_type": "execute_result"
    }
   ],
   "source": [
    "trainCatDF.head()"
   ]
  },
  {
   "cell_type": "markdown",
   "metadata": {},
   "source": [
    "#### Null Check"
   ]
  },
  {
   "cell_type": "code",
   "execution_count": 103,
   "metadata": {
    "ExecuteTime": {
     "end_time": "2019-11-11T09:39:40.856611Z",
     "start_time": "2019-11-11T09:39:38.006069Z"
    }
   },
   "outputs": [
    {
     "data": {
      "text/plain": [
       "Census_InternalBatteryType      71.046809\n",
       "SmartScreen                     35.610795\n",
       "Census_PrimaryDiskTypeName       0.143967\n",
       "Census_ChassisTypeName           0.006983\n",
       "Census_PowerPlatformRoleName     0.000616\n",
       "OsBuildLab                       0.000235\n",
       "dtype: float64"
      ]
     },
     "execution_count": 103,
     "metadata": {},
     "output_type": "execute_result"
    }
   ],
   "source": [
    "((trainCatDF.isnull().sum()/trainCatDF.shape[0])*100).sort_values(ascending = False)[:6]"
   ]
  },
  {
   "cell_type": "code",
   "execution_count": 30,
   "metadata": {
    "ExecuteTime": {
     "end_time": "2019-11-11T08:33:44.982629Z",
     "start_time": "2019-11-11T08:33:42.128333Z"
    }
   },
   "outputs": [
    {
     "data": {
      "text/plain": [
       "'Census_InternalBatteryType'"
      ]
     },
     "execution_count": 30,
     "metadata": {},
     "output_type": "execute_result"
    }
   ],
   "source": [
    "((trainCatDF.isnull().sum() / trainCatDF.shape[0]) *\n",
    "            100).sort_values(ascending=False)[:6].index[0]"
   ]
  },
  {
   "cell_type": "code",
   "execution_count": 77,
   "metadata": {
    "ExecuteTime": {
     "end_time": "2019-11-11T09:21:50.000701Z",
     "start_time": "2019-11-11T09:21:46.452602Z"
    }
   },
   "outputs": [
    {
     "data": {
      "text/html": [
       "<div>\n",
       "<style scoped>\n",
       "    .dataframe tbody tr th:only-of-type {\n",
       "        vertical-align: middle;\n",
       "    }\n",
       "\n",
       "    .dataframe tbody tr th {\n",
       "        vertical-align: top;\n",
       "    }\n",
       "\n",
       "    .dataframe thead th {\n",
       "        text-align: right;\n",
       "    }\n",
       "</style>\n",
       "<table border=\"1\" class=\"dataframe\">\n",
       "  <thead>\n",
       "    <tr style=\"text-align: right;\">\n",
       "      <th>HasDetections</th>\n",
       "      <th>0</th>\n",
       "      <th>1</th>\n",
       "    </tr>\n",
       "    <tr>\n",
       "      <th>Census_PrimaryDiskTypeName</th>\n",
       "      <th></th>\n",
       "      <th></th>\n",
       "    </tr>\n",
       "  </thead>\n",
       "  <tbody>\n",
       "    <tr>\n",
       "      <th>HDD</th>\n",
       "      <td>2865755</td>\n",
       "      <td>2941049</td>\n",
       "    </tr>\n",
       "    <tr>\n",
       "      <th>SSD</th>\n",
       "      <td>1240186</td>\n",
       "      <td>1226622</td>\n",
       "    </tr>\n",
       "    <tr>\n",
       "      <th>UNKNOWN</th>\n",
       "      <td>197160</td>\n",
       "      <td>161091</td>\n",
       "    </tr>\n",
       "    <tr>\n",
       "      <th>Unspecified</th>\n",
       "      <td>152835</td>\n",
       "      <td>123941</td>\n",
       "    </tr>\n",
       "    <tr>\n",
       "      <th>MISS</th>\n",
       "      <td>6655</td>\n",
       "      <td>6189</td>\n",
       "    </tr>\n",
       "  </tbody>\n",
       "</table>\n",
       "</div>"
      ],
      "text/plain": [
       "HasDetections                     0        1\n",
       "Census_PrimaryDiskTypeName                  \n",
       "HDD                         2865755  2941049\n",
       "SSD                         1240186  1226622\n",
       "UNKNOWN                      197160   161091\n",
       "Unspecified                  152835   123941\n",
       "MISS                           6655     6189"
      ]
     },
     "execution_count": 77,
     "metadata": {},
     "output_type": "execute_result"
    }
   ],
   "source": [
    "pd.crosstab(\n",
    "    trainCatDF[((trainCatDF.isnull().sum() / trainCatDF.shape[0]) *\n",
    "                100).sort_values(ascending=False)\n",
    "               [:6].index[2]].cat.add_categories('MISS').fillna('MISS'),\n",
    "    trainCatDF.HasDetections).sort_values(1,ascending=False)[:6]"
   ]
  },
  {
   "cell_type": "code",
   "execution_count": 35,
   "metadata": {
    "ExecuteTime": {
     "end_time": "2019-11-11T08:41:37.424461Z",
     "start_time": "2019-11-11T08:41:33.751603Z"
    }
   },
   "outputs": [
    {
     "data": {
      "text/html": [
       "<div>\n",
       "<style scoped>\n",
       "    .dataframe tbody tr th:only-of-type {\n",
       "        vertical-align: middle;\n",
       "    }\n",
       "\n",
       "    .dataframe tbody tr th {\n",
       "        vertical-align: top;\n",
       "    }\n",
       "\n",
       "    .dataframe thead th {\n",
       "        text-align: right;\n",
       "    }\n",
       "</style>\n",
       "<table border=\"1\" class=\"dataframe\">\n",
       "  <thead>\n",
       "    <tr style=\"text-align: right;\">\n",
       "      <th>HasDetections</th>\n",
       "      <th>0</th>\n",
       "      <th>1</th>\n",
       "    </tr>\n",
       "    <tr>\n",
       "      <th>Census_InternalBatteryType</th>\n",
       "      <th></th>\n",
       "      <th></th>\n",
       "    </tr>\n",
       "  </thead>\n",
       "  <tbody>\n",
       "    <tr>\n",
       "      <th>MISS</th>\n",
       "      <td>3136146</td>\n",
       "      <td>3202283</td>\n",
       "    </tr>\n",
       "    <tr>\n",
       "      <th>lion</th>\n",
       "      <td>1048882</td>\n",
       "      <td>979374</td>\n",
       "    </tr>\n",
       "    <tr>\n",
       "      <th>li-i</th>\n",
       "      <td>126132</td>\n",
       "      <td>119485</td>\n",
       "    </tr>\n",
       "    <tr>\n",
       "      <th>#</th>\n",
       "      <td>88815</td>\n",
       "      <td>95183</td>\n",
       "    </tr>\n",
       "    <tr>\n",
       "      <th>lip</th>\n",
       "      <td>29100</td>\n",
       "      <td>32999</td>\n",
       "    </tr>\n",
       "  </tbody>\n",
       "</table>\n",
       "</div>"
      ],
      "text/plain": [
       "HasDetections                     0        1\n",
       "Census_InternalBatteryType                  \n",
       "MISS                        3136146  3202283\n",
       "lion                        1048882   979374\n",
       "li-i                         126132   119485\n",
       "#                             88815    95183\n",
       "lip                           29100    32999"
      ]
     },
     "execution_count": 35,
     "metadata": {},
     "output_type": "execute_result"
    }
   ],
   "source": [
    "pd.crosstab(\n",
    "    trainCatDF[((trainCatDF.isnull().sum() / trainCatDF.shape[0]) *\n",
    "                100).sort_values(ascending=False)\n",
    "               [:6].index[0]].cat.add_categories('MISS').fillna('MISS'),\n",
    "    trainCatDF.HasDetections).sort_values(1,ascending=False)[:5]"
   ]
  },
  {
   "cell_type": "code",
   "execution_count": 36,
   "metadata": {
    "ExecuteTime": {
     "end_time": "2019-11-11T08:42:31.281130Z",
     "start_time": "2019-11-11T08:42:27.638014Z"
    }
   },
   "outputs": [
    {
     "data": {
      "text/html": [
       "<div>\n",
       "<style scoped>\n",
       "    .dataframe tbody tr th:only-of-type {\n",
       "        vertical-align: middle;\n",
       "    }\n",
       "\n",
       "    .dataframe tbody tr th {\n",
       "        vertical-align: top;\n",
       "    }\n",
       "\n",
       "    .dataframe thead th {\n",
       "        text-align: right;\n",
       "    }\n",
       "</style>\n",
       "<table border=\"1\" class=\"dataframe\">\n",
       "  <thead>\n",
       "    <tr style=\"text-align: right;\">\n",
       "      <th>HasDetections</th>\n",
       "      <th>0</th>\n",
       "      <th>1</th>\n",
       "    </tr>\n",
       "    <tr>\n",
       "      <th>SmartScreen</th>\n",
       "      <th></th>\n",
       "      <th></th>\n",
       "    </tr>\n",
       "  </thead>\n",
       "  <tbody>\n",
       "    <tr>\n",
       "      <th>RequireAdmin</th>\n",
       "      <td>2428260</td>\n",
       "      <td>1887923</td>\n",
       "    </tr>\n",
       "    <tr>\n",
       "      <th>MISS</th>\n",
       "      <td>1650637</td>\n",
       "      <td>1526374</td>\n",
       "    </tr>\n",
       "    <tr>\n",
       "      <th>ExistsNotSet</th>\n",
       "      <td>201533</td>\n",
       "      <td>844650</td>\n",
       "    </tr>\n",
       "    <tr>\n",
       "      <th>Off</th>\n",
       "      <td>94594</td>\n",
       "      <td>91959</td>\n",
       "    </tr>\n",
       "    <tr>\n",
       "      <th>Warn</th>\n",
       "      <td>57382</td>\n",
       "      <td>78101</td>\n",
       "    </tr>\n",
       "  </tbody>\n",
       "</table>\n",
       "</div>"
      ],
      "text/plain": [
       "HasDetections        0        1\n",
       "SmartScreen                    \n",
       "RequireAdmin   2428260  1887923\n",
       "MISS           1650637  1526374\n",
       "ExistsNotSet    201533   844650\n",
       "Off              94594    91959\n",
       "Warn             57382    78101"
      ]
     },
     "execution_count": 36,
     "metadata": {},
     "output_type": "execute_result"
    }
   ],
   "source": [
    "pd.crosstab(\n",
    "    trainCatDF[((trainCatDF.isnull().sum() / trainCatDF.shape[0]) *\n",
    "                100).sort_values(ascending=False)\n",
    "               [:6].index[1]].cat.add_categories('MISS').fillna('MISS'),\n",
    "    trainCatDF.HasDetections).sort_values(1,ascending=False)[:5]"
   ]
  },
  {
   "cell_type": "markdown",
   "metadata": {},
   "source": [
    "- OSBuildLab, Census_PowerPlatformRoleName  and Census_ChassisTypeName have statistically insignificant % of null values thus, I will drop these missing values.\n",
    "- Census_InternalBatteryType ,Census_PrimaryDiskTypeName & SmartScreen has considerable amount of null values associated to them. However, they have corresponding number for cleans as well thus, I will replace them as '_MISS' "
   ]
  },
  {
   "cell_type": "code",
   "execution_count": 104,
   "metadata": {
    "ExecuteTime": {
     "end_time": "2019-11-11T09:39:51.238639Z",
     "start_time": "2019-11-11T09:39:50.982749Z"
    }
   },
   "outputs": [],
   "source": [
    "trainCatDF['Census_InternalBatteryType_MISS_Handled'] = np.where(\n",
    "    trainCatDF['Census_InternalBatteryType'].isnull(), '_MISS',\n",
    "    trainCatDF['Census_InternalBatteryType'])"
   ]
  },
  {
   "cell_type": "code",
   "execution_count": 105,
   "metadata": {
    "ExecuteTime": {
     "end_time": "2019-11-11T09:39:51.821677Z",
     "start_time": "2019-11-11T09:39:51.557631Z"
    }
   },
   "outputs": [],
   "source": [
    "trainCatDF['SmartScreene_MISS_Handled'] = np.where(\n",
    "    trainCatDF['SmartScreen'].isnull(), '_MISS',\n",
    "    trainCatDF['SmartScreen'])"
   ]
  },
  {
   "cell_type": "code",
   "execution_count": 106,
   "metadata": {
    "ExecuteTime": {
     "end_time": "2019-11-11T09:39:52.313468Z",
     "start_time": "2019-11-11T09:39:52.100185Z"
    }
   },
   "outputs": [],
   "source": [
    "trainCatDF['Census_PrimaryDiskTypeName_MISS_Handled'] = np.where(\n",
    "    trainCatDF['Census_PrimaryDiskTypeName'].isnull(), '_MISS',\n",
    "    trainCatDF['Census_PrimaryDiskTypeName'])"
   ]
  },
  {
   "cell_type": "code",
   "execution_count": 107,
   "metadata": {
    "ExecuteTime": {
     "end_time": "2019-11-11T09:39:55.509245Z",
     "start_time": "2019-11-11T09:39:54.855004Z"
    }
   },
   "outputs": [],
   "source": [
    "trainCatDF.drop(columns=['Census_InternalBatteryType',\n",
    "                         'SmartScreen',\n",
    "                         'Census_PrimaryDiskTypeName'\n",
    "                        ],inplace=True)"
   ]
  },
  {
   "cell_type": "code",
   "execution_count": 109,
   "metadata": {
    "ExecuteTime": {
     "end_time": "2019-11-11T09:40:34.588862Z",
     "start_time": "2019-11-11T09:40:29.351414Z"
    }
   },
   "outputs": [],
   "source": [
    "trainCatDF.dropna(inplace=True)"
   ]
  },
  {
   "cell_type": "code",
   "execution_count": 110,
   "metadata": {
    "ExecuteTime": {
     "end_time": "2019-11-11T09:40:45.400050Z",
     "start_time": "2019-11-11T09:40:42.086733Z"
    }
   },
   "outputs": [
    {
     "data": {
      "text/plain": [
       "Census_PrimaryDiskTypeName_MISS_Handled    0.0\n",
       "Census_ChassisTypeName                     0.0\n",
       "ProductName                                0.0\n",
       "EngineVersion                              0.0\n",
       "AppVersion                                 0.0\n",
       "AvSigVersion                               0.0\n",
       "dtype: float64"
      ]
     },
     "execution_count": 110,
     "metadata": {},
     "output_type": "execute_result"
    }
   ],
   "source": [
    "((trainCatDF.isnull().sum() / trainCatDF.shape[0]) *\n",
    "            100).sort_values(ascending=False)[:6]"
   ]
  },
  {
   "cell_type": "code",
   "execution_count": null,
   "metadata": {},
   "outputs": [],
   "source": []
  },
  {
   "cell_type": "markdown",
   "metadata": {},
   "source": [
    "#### Numerical Columns"
   ]
  },
  {
   "cell_type": "code",
   "execution_count": null,
   "metadata": {
    "ExecuteTime": {
     "end_time": "2019-11-08T09:40:27.893176Z",
     "start_time": "2019-11-08T09:38:51.684338Z"
    }
   },
   "outputs": [],
   "source": []
  },
  {
   "cell_type": "code",
   "execution_count": null,
   "metadata": {},
   "outputs": [],
   "source": []
  }
 ],
 "metadata": {
  "kernelspec": {
   "display_name": "Python 3",
   "language": "python",
   "name": "python3"
  },
  "language_info": {
   "codemirror_mode": {
    "name": "ipython",
    "version": 3
   },
   "file_extension": ".py",
   "mimetype": "text/x-python",
   "name": "python",
   "nbconvert_exporter": "python",
   "pygments_lexer": "ipython3",
   "version": "3.7.3"
  },
  "toc": {
   "base_numbering": 1,
   "nav_menu": {},
   "number_sections": true,
   "sideBar": true,
   "skip_h1_title": false,
   "title_cell": "Table of Contents",
   "title_sidebar": "Contents",
   "toc_cell": false,
   "toc_position": {},
   "toc_section_display": true,
   "toc_window_display": true
  }
 },
 "nbformat": 4,
 "nbformat_minor": 2
}
